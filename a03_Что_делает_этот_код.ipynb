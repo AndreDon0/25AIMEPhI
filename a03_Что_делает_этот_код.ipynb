{
  "nbformat": 4,
  "nbformat_minor": 0,
  "metadata": {
    "colab": {
      "provenance": []
    },
    "kernelspec": {
      "name": "python3",
      "display_name": "Python 3"
    },
    "language_info": {
      "name": "python"
    }
  },
  "cells": [
    {
      "cell_type": "code",
      "source": [
        "import numpy as np"
      ],
      "metadata": {
        "id": "wis7YGPPnCmW"
      },
      "execution_count": null,
      "outputs": []
    },
    {
      "cell_type": "code",
      "execution_count": null,
      "metadata": {
        "id": "JvbIld7Mm0UD"
      },
      "outputs": [],
      "source": [
        "def iterate(Z):\n",
        "    N = (Z[0:-2,0:-2] + Z[0:-2,1:-1] + Z[0:-2,2:] +\n",
        "         Z[1:-1,0:-2]                + Z[1:-1,2:] +\n",
        "         Z[2:  ,0:-2] + Z[2:  ,1:-1] + Z[2:  ,2:])\n",
        "\n",
        "    birth = (N == 3) & (Z[1:-1,1:-1]==0)\n",
        "    survive = ((N == 2) | (N == 3)) & (Z[1:-1,1:-1] == 1)\n",
        "    Z[...] = 0\n",
        "    Z[1:-1,1:-1][birth | survive] = 1\n",
        "    return Z\n",
        "\n",
        "Z = np.random.randint(0,2,(5,5))\n",
        "for i in range(10):\n",
        "    print(Z)\n",
        "    Z = iterate(Z)"
      ]
    },
    {
      "cell_type": "code",
      "source": [
        "import numpy as np\n",
        "\n",
        "def iterate_torus(Z, mutation_rate=0.01):\n",
        "    N = (np.roll(Z, +1, 0) + np.roll(Z, -1, 0) +\n",
        "         np.roll(Z, +1, 1) + np.roll(Z, -1, 1) +\n",
        "         np.roll(np.roll(Z, +1, 0), +1, 1) +\n",
        "         np.roll(np.roll(Z, +1, 0), -1, 1) +\n",
        "         np.roll(np.roll(Z, -1, 0), +1, 1) +\n",
        "         np.roll(np.roll(Z, -1, 0), -1, 1))\n",
        "\n",
        "    birth = (N == 3) & (Z == 0)\n",
        "    survive = ((N == 2) | (N == 3)) & (Z == 1)\n",
        "    Z_new = np.zeros_like(Z)\n",
        "    Z_new[birth | survive] = 1\n",
        "\n",
        "    mutations = np.random.rand(*Z.shape) < mutation_rate\n",
        "    Z_new[mutations] = 1 - Z_new[mutations]\n",
        "\n",
        "    return Z_new\n",
        "\n",
        "def print_field(Z):\n",
        "    chars = np.where(Z == 1, '▓', '░')\n",
        "    print(\"\\n\".join(\" \".join(row) for row in chars))\n",
        "\n",
        "size = 12\n",
        "steps = 20\n",
        "mutation_rate = 0.02\n",
        "\n",
        "Z = np.random.randint(0, 2, (size, size))\n",
        "\n",
        "for step in range(steps):\n",
        "    print_field(Z)\n",
        "    print(f\"Шаг {step+1}: живых — {Z.sum()}\")\n",
        "    Z = iterate_torus(Z, mutation_rate)\n",
        "    print()\n",
        "\n",
        "print(\"Готово!\")"
      ],
      "metadata": {
        "collapsed": true,
        "id": "n2kfREZioMey"
      },
      "execution_count": null,
      "outputs": []
    }
  ]
}