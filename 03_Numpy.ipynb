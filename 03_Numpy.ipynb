{
  "cells": [
    {
      "cell_type": "markdown",
      "metadata": {
        "id": "SWaltpGQSn92"
      },
      "source": [
        "# Numpy\n",
        "\n",
        "[NumPy](https://numpy.org/) это open-source модуль для python, который предоставляет общие математические и числовые операции.\n",
        "\n",
        "NumPy - один из ключевых модулей в экосистеме Python, в том числе при решении задач машинного обучения и искусственного интеллекта.\n",
        "\n",
        "NumPy является наследником Numeric и NumArray. Основан NumPy на библиотеке LAPAC, которая написана на Fortran. Когда-то numpy была частью SciPy. Да, это напоминает мыльную оперу. \n",
        "\n",
        "Мы подробно разбираем особенности библиотеки, так как на работе с ней основаны все остальные библиотеки, работающие с искусственным интеллектом.\n",
        "\n",
        "Текст урока опирается на небольшой, но полезный [мануал](https://sites.engineering.ucsb.edu/~shell/che210d/numpy.pdf)."
      ]
    },
    {
      "cell_type": "markdown",
      "metadata": {
        "id": "j42zD3zQUB29"
      },
      "source": [
        "## Установка\n",
        "\n",
        "Если вы используете Google Colab, то numpy уже установлен на виртуальном сервере и вы можете им пользоваться.\n",
        "\n",
        "Если вы открыли собственный ноутбук, то можете воспользоваться командой установки, записанной через восклицательный знак\n",
        "\n",
        "\n",
        "```\n",
        "!comand\n",
        "```\n",
        "Так запущенная команда в среде ipy вызывает системную команду pip, которая сама установит данный модуль в вашу виртуальную среду. \n",
        "\n",
        "Обратите внимание, что каждый ноутбк имеет свой набор используемых библиотек и системных установок. \n"
      ]
    },
    {
      "cell_type": "code",
      "execution_count": null,
      "metadata": {
        "colab": {
          "base_uri": "https://localhost:8080/"
        },
        "id": "-u28cDMWUASF",
        "outputId": "9e7b939c-c12d-4f02-e971-f0d6043ff73a"
      },
      "outputs": [
        {
          "name": "stdout",
          "output_type": "stream",
          "text": [
            "Requirement already satisfied: numpy in /usr/local/lib/python3.7/dist-packages (1.19.5)\n"
          ]
        }
      ],
      "source": [
        "!pip install numpy"
      ]
    },
    {
      "cell_type": "markdown",
      "metadata": {
        "id": "eiCKlC1MVTxD"
      },
      "source": [
        "## Подключение\n",
        "\n",
        "Для подключения модулей в Python используется команда `import` или её вариации. В случае с numpy есть традиционная и привычная всем команда импорта с использованием алиаса (as) np\n",
        "\n",
        "Алиас - это встроенная команда интерпретатора для сокращения команд и их последовательностей."
      ]
    },
    {
      "cell_type": "code",
      "execution_count": null,
      "metadata": {
        "id": "2VnPtDPcSQvi"
      },
      "outputs": [],
      "source": [
        "# классический вариант\n",
        "import numpy"
      ]
    },
    {
      "cell_type": "code",
      "execution_count": null,
      "metadata": {
        "id": "7Yqz0e4cSnj5"
      },
      "outputs": [],
      "source": [
        "# традиционный вариант \n",
        "import numpy as np"
      ]
    },
    {
      "cell_type": "markdown",
      "metadata": {
        "id": "XkFuEgPVV0at"
      },
      "source": [
        "При таком импорте к любым командам из модуля numpy придётся дописывать название модуля\n",
        "\n",
        "```\n",
        "numpy.comand\n",
        "np.comand\n",
        "```\n",
        "Есть другой вариант, в котором можно использовать только команду без указания модуля. Но так как в разных модулях могут быть одинаковые функции, использовать такой вариант не рекомендуется.\n"
      ]
    },
    {
      "cell_type": "code",
      "execution_count": null,
      "metadata": {
        "id": "CSSdlFA6WfCg"
      },
      "outputs": [],
      "source": [
        "from numpy import *"
      ]
    },
    {
      "cell_type": "markdown",
      "metadata": {
        "id": "KROHUh0xi1nD"
      },
      "source": [
        "## Особые константы\n",
        "\n",
        "Numpy реализует несколько особых значнений через контстанты. Например:"
      ]
    },
    {
      "cell_type": "code",
      "execution_count": null,
      "metadata": {
        "colab": {
          "base_uri": "https://localhost:8080/"
        },
        "id": "407sxkUFjCZn",
        "outputId": "75b4bf62-d83b-474d-eaf4-2f5443c40b25"
      },
      "outputs": [
        {
          "data": {
            "text/plain": [
              "nan"
            ]
          },
          "execution_count": 16,
          "metadata": {
            "tags": []
          },
          "output_type": "execute_result"
        }
      ],
      "source": [
        "np.NaN\n",
        "# not a number - Не число"
      ]
    },
    {
      "cell_type": "code",
      "execution_count": null,
      "metadata": {
        "colab": {
          "base_uri": "https://localhost:8080/"
        },
        "id": "j_XDMb9-jJh1",
        "outputId": "334b17da-e5e7-4236-fb7b-69b21b5c5d9f"
      },
      "outputs": [
        {
          "data": {
            "text/plain": [
              "inf"
            ]
          },
          "execution_count": 17,
          "metadata": {
            "tags": []
          },
          "output_type": "execute_result"
        }
      ],
      "source": [
        "np.Inf\n",
        "# infinity - бесконечность "
      ]
    },
    {
      "cell_type": "markdown",
      "metadata": {
        "id": "nKw_yo1lXWXM"
      },
      "source": [
        "## Массивы\n",
        "\n",
        "Главная особенность и элемент, с которым необходимо работать, в numpy - это массивы. Создаются массивы разными способами, которые мы сейчас разберём. \n",
        "\n",
        "При этом всем элементы в array должны быть одного типа, что отличает его от классического списка (list) Python. "
      ]
    },
    {
      "cell_type": "code",
      "execution_count": null,
      "metadata": {
        "colab": {
          "base_uri": "https://localhost:8080/"
        },
        "id": "FKmqlaxTYZ2M",
        "outputId": "17d64243-4112-4758-fa01-ecf171be7f9d"
      },
      "outputs": [
        {
          "name": "stdout",
          "output_type": "stream",
          "text": [
            "Array: [1. 2. 3. 4.]\n",
            "Тип:  <class 'numpy.ndarray'>\n",
            "[1.0, 2.0, 3.0, 4.0]\n"
          ]
        }
      ],
      "source": [
        "a = np.array([1, 2, 3, 4], float)\n",
        "print('Array:', a)\n",
        "print('Тип: ',type(a))\n",
        "# обратное преобразование\n",
        "print(a.tolist())"
      ]
    },
    {
      "cell_type": "code",
      "execution_count": null,
      "metadata": {
        "colab": {
          "base_uri": "https://localhost:8080/"
        },
        "id": "RKkm4CVBZAJ0",
        "outputId": "cfc975c6-49b0-46df-ba98-e540a518da38"
      },
      "outputs": [
        {
          "name": "stdout",
          "output_type": "stream",
          "text": [
            "1:  1\n",
            "2:  [2 4]\n",
            "3:  4\n",
            "4:  5\n"
          ]
        }
      ],
      "source": [
        "# показыаем, что можно также работать с np.array, как и с обычным list\n",
        "a = np.array([1, 2, 4, 4])\n",
        "\n",
        "print('1: ', a[0])\n",
        "print('2: ', a[1:3])\n",
        "print('3: ', a[-1])\n",
        "a[0] = 5\n",
        "print('4: ', a[0])"
      ]
    },
    {
      "cell_type": "markdown",
      "metadata": {
        "id": "uzW3ZG1tZbBf"
      },
      "source": [
        "### Многомерные массивы \n",
        "\n",
        "Большая ценность numpy в том, что можно работать и многомерными массивами. Например, любое изображение - как минимум двумерный массив. А при обучении нейронных сетей для работы с компьютерным зрением используются по сути четырёхмерные массивы."
      ]
    },
    {
      "cell_type": "code",
      "execution_count": null,
      "metadata": {
        "colab": {
          "base_uri": "https://localhost:8080/"
        },
        "id": "0cIM9tWyZaUJ",
        "outputId": "517bea6b-90bb-4603-8439-3c62c161c32c"
      },
      "outputs": [
        {
          "name": "stdout",
          "output_type": "stream",
          "text": [
            "[[1 2 3]\n",
            " [4 5 6]]\n",
            "1:  1\n",
            "2:  4\n",
            "3:  2\n"
          ]
        }
      ],
      "source": [
        "a = np.array([[1, 2, 3], [4, 5, 6]], int)\n",
        "print(a)\n",
        "print('1: ', a[0,0])\n",
        "print('2: ', a[1,0])\n",
        "print('3: ', a[0,1])"
      ]
    },
    {
      "cell_type": "code",
      "execution_count": null,
      "metadata": {
        "colab": {
          "base_uri": "https://localhost:8080/"
        },
        "id": "X-7XOsgia1Yt",
        "outputId": "22f38676-f23a-4b9c-aac4-d9fdd5e848bd"
      },
      "outputs": [
        {
          "name": "stdout",
          "output_type": "stream",
          "text": [
            "4:  [4 5 6]\n",
            "5:  [3 6]\n",
            "6:  [[5 6]]\n"
          ]
        }
      ],
      "source": [
        "# срезы (сленг - слайсы) с двмерным массивом\n",
        "print('4: ', a[1,:])\n",
        "print('5: ', a[:,2])\n",
        "print('6: ', a[-1:, -2:])"
      ]
    },
    {
      "cell_type": "markdown",
      "metadata": {
        "id": "yw3iC4LnfUYL"
      },
      "source": [
        "### Характеристики объектов numpy"
      ]
    },
    {
      "cell_type": "code",
      "execution_count": null,
      "metadata": {
        "colab": {
          "base_uri": "https://localhost:8080/"
        },
        "id": "aNEksZ6MJ63L",
        "outputId": "da903e79-6822-4228-c3df-160dc2d18a17"
      },
      "outputs": [
        {
          "data": {
            "text/plain": [
              "array([[1, 2, 3],\n",
              "       [4, 5, 6]])"
            ]
          },
          "execution_count": 5,
          "metadata": {},
          "output_type": "execute_result"
        }
      ],
      "source": [
        "a = np.array([[1, 2, 3], [4, 5, 6]], int)\n",
        "a"
      ]
    },
    {
      "cell_type": "code",
      "execution_count": null,
      "metadata": {
        "colab": {
          "base_uri": "https://localhost:8080/"
        },
        "id": "3lUjOtLRrTNf",
        "outputId": "cd4d8cad-6057-476a-e697-984f96005ae2"
      },
      "outputs": [
        {
          "data": {
            "text/plain": [
              "2"
            ]
          },
          "execution_count": 6,
          "metadata": {},
          "output_type": "execute_result"
        }
      ],
      "source": [
        "len(a)"
      ]
    },
    {
      "cell_type": "code",
      "execution_count": null,
      "metadata": {
        "colab": {
          "base_uri": "https://localhost:8080/"
        },
        "id": "59Z6URzWfWys",
        "outputId": "0a838177-0e40-4fc5-ee27-9c23159b1e28"
      },
      "outputs": [
        {
          "data": {
            "text/plain": [
              "(2, 3)"
            ]
          },
          "execution_count": 11,
          "metadata": {},
          "output_type": "execute_result"
        }
      ],
      "source": [
        "# размеры\n",
        "a.shape"
      ]
    },
    {
      "cell_type": "code",
      "execution_count": null,
      "metadata": {
        "colab": {
          "base_uri": "https://localhost:8080/"
        },
        "id": "fyYdBYYcfbmR",
        "outputId": "f4bcc853-dab3-4445-f45e-0f04edafade5"
      },
      "outputs": [
        {
          "data": {
            "text/plain": [
              "dtype('int64')"
            ]
          },
          "execution_count": 7,
          "metadata": {},
          "output_type": "execute_result"
        }
      ],
      "source": [
        "# тип данных внутри\n",
        "# напоминаем, массив numpy может хранить только один тип данных\n",
        "a.dtype"
      ]
    },
    {
      "cell_type": "markdown",
      "metadata": {
        "id": "bzNwVUuOgAuH"
      },
      "source": [
        "### Изменение размеров массива"
      ]
    },
    {
      "cell_type": "code",
      "execution_count": null,
      "metadata": {
        "colab": {
          "base_uri": "https://localhost:8080/"
        },
        "id": "wIgFAsuSKMKM",
        "outputId": "13a0de89-2782-450b-b9dc-9262522319ef"
      },
      "outputs": [
        {
          "data": {
            "text/plain": [
              "array([[1, 2, 3],\n",
              "       [4, 5, 6]])"
            ]
          },
          "execution_count": 8,
          "metadata": {},
          "output_type": "execute_result"
        }
      ],
      "source": [
        "a"
      ]
    },
    {
      "cell_type": "code",
      "execution_count": null,
      "metadata": {
        "id": "8Qa8TyQOgDL8"
      },
      "outputs": [],
      "source": [
        "a = a.reshape(3,2)"
      ]
    },
    {
      "cell_type": "code",
      "execution_count": null,
      "metadata": {
        "colab": {
          "base_uri": "https://localhost:8080/"
        },
        "id": "N3ZuJCHxgNeR",
        "outputId": "bac24333-0e61-4a3a-a688-f3933598a4a1"
      },
      "outputs": [
        {
          "data": {
            "text/plain": [
              "array([[1, 2],\n",
              "       [3, 4],\n",
              "       [5, 6]])"
            ]
          },
          "execution_count": 10,
          "metadata": {},
          "output_type": "execute_result"
        }
      ],
      "source": [
        "# обратите внимание, что в процессе изменения размера создан новый массив, а не изменён старый\n",
        "a"
      ]
    },
    {
      "cell_type": "code",
      "execution_count": null,
      "metadata": {
        "colab": {
          "base_uri": "https://localhost:8080/"
        },
        "id": "OJnHnxVHgqgG",
        "outputId": "7827b5eb-dfb1-4d5b-c335-ef6aa0497545"
      },
      "outputs": [
        {
          "data": {
            "text/plain": [
              "array([1, 2, 3, 4, 5, 6])"
            ]
          },
          "execution_count": 11,
          "metadata": {},
          "output_type": "execute_result"
        }
      ],
      "source": [
        "# с помощью этой команды можно вытянуть массив в одномерную \"строку\"\n",
        "a.flatten()"
      ]
    },
    {
      "cell_type": "code",
      "execution_count": null,
      "metadata": {
        "colab": {
          "base_uri": "https://localhost:8080/"
        },
        "id": "nnuze3P0g0F7",
        "outputId": "8398947b-d39c-4338-ae40-46e4160fd142"
      },
      "outputs": [
        {
          "data": {
            "text/plain": [
              "array([[1, 2],\n",
              "       [3, 4],\n",
              "       [5, 6]])"
            ]
          },
          "execution_count": 12,
          "metadata": {},
          "output_type": "execute_result"
        }
      ],
      "source": [
        "# обратите внимание, что в процессе изменения размера создан новый массив, а не изменён старый\n",
        "a"
      ]
    },
    {
      "cell_type": "markdown",
      "metadata": {
        "id": "ViNPBTVggJjE"
      },
      "source": [
        "### Создание по-разному заполненных массивов"
      ]
    },
    {
      "cell_type": "code",
      "execution_count": null,
      "metadata": {
        "colab": {
          "base_uri": "https://localhost:8080/"
        },
        "id": "Z6nU5WXbhIG-",
        "outputId": "1a499b04-22de-4a79-83df-67abd5388a25"
      },
      "outputs": [
        {
          "name": "stdout",
          "output_type": "stream",
          "text": [
            "[0 1 2 3 4]\n",
            "[1 3 5]\n"
          ]
        }
      ],
      "source": [
        "# аналог range для массивов\n",
        "print(np.arange(5))\n",
        "print(np.arange(1, 6, 2))"
      ]
    },
    {
      "cell_type": "code",
      "execution_count": null,
      "metadata": {
        "colab": {
          "base_uri": "https://localhost:8080/"
        },
        "id": "vDVRyzaliROx",
        "outputId": "fab10b4c-d3df-4938-9c80-77f5320b7ebb"
      },
      "outputs": [
        {
          "data": {
            "text/plain": [
              "array([[1., 1., 1.],\n",
              "       [1., 1., 1.]])"
            ]
          },
          "execution_count": 22,
          "metadata": {
            "tags": []
          },
          "output_type": "execute_result"
        }
      ],
      "source": [
        "np.ones((2,3))"
      ]
    },
    {
      "cell_type": "code",
      "execution_count": null,
      "metadata": {
        "colab": {
          "base_uri": "https://localhost:8080/"
        },
        "id": "y33CRrfniVAE",
        "outputId": "5231a25a-c6a0-44a5-92a2-57d6985e861b"
      },
      "outputs": [
        {
          "data": {
            "text/plain": [
              "array([[0., 0., 0., 0.],\n",
              "       [0., 0., 0., 0.],\n",
              "       [0., 0., 0., 0.],\n",
              "       [0., 0., 0., 0.],\n",
              "       [0., 0., 0., 0.]])"
            ]
          },
          "execution_count": 24,
          "metadata": {
            "tags": []
          },
          "output_type": "execute_result"
        }
      ],
      "source": [
        "np.zeros((5,4))"
      ]
    },
    {
      "cell_type": "code",
      "execution_count": null,
      "metadata": {
        "colab": {
          "base_uri": "https://localhost:8080/"
        },
        "id": "D484-EYBidsq",
        "outputId": "e68bfadf-e302-4ee5-96f1-ed2663e917f4"
      },
      "outputs": [
        {
          "data": {
            "text/plain": [
              "array([[1., 0., 0., 0.],\n",
              "       [0., 1., 0., 0.],\n",
              "       [0., 0., 1., 0.],\n",
              "       [0., 0., 0., 1.]])"
            ]
          },
          "execution_count": 25,
          "metadata": {
            "tags": []
          },
          "output_type": "execute_result"
        }
      ],
      "source": [
        "np.identity(4)"
      ]
    },
    {
      "cell_type": "code",
      "execution_count": null,
      "metadata": {
        "colab": {
          "base_uri": "https://localhost:8080/"
        },
        "id": "me3MDosSigXa",
        "outputId": "fb81a861-6c20-4181-d4d7-6b61013319bc"
      },
      "outputs": [
        {
          "data": {
            "text/plain": [
              "array([[0., 0., 1., 0.],\n",
              "       [0., 0., 0., 1.],\n",
              "       [0., 0., 0., 0.],\n",
              "       [0., 0., 0., 0.],\n",
              "       [0., 0., 0., 0.]])"
            ]
          },
          "execution_count": 23,
          "metadata": {},
          "output_type": "execute_result"
        }
      ],
      "source": [
        "# k - номер диагонали, заполненный единицами\n",
        "np.eye(5,4, k=2)"
      ]
    },
    {
      "cell_type": "markdown",
      "metadata": {
        "id": "PFi4IJAPl7W3"
      },
      "source": [
        "### Перебор элементов массива"
      ]
    },
    {
      "cell_type": "code",
      "execution_count": null,
      "metadata": {
        "id": "XbHUaIYjl6tM"
      },
      "outputs": [],
      "source": [
        "a = np.array([1, 4, 5], int)"
      ]
    },
    {
      "cell_type": "code",
      "execution_count": null,
      "metadata": {
        "colab": {
          "base_uri": "https://localhost:8080/"
        },
        "id": "ZKmehRBNl_dx",
        "outputId": "701faa2d-6669-48a6-bc42-0c281373bf18"
      },
      "outputs": [
        {
          "name": "stdout",
          "output_type": "stream",
          "text": [
            "1\n",
            "4\n",
            "5\n"
          ]
        }
      ],
      "source": [
        "# простой перебор для одномерного случая\n",
        "for x in a:\n",
        "   print(x)"
      ]
    },
    {
      "cell_type": "code",
      "execution_count": null,
      "metadata": {
        "colab": {
          "base_uri": "https://localhost:8080/"
        },
        "id": "mF7_afUImDye",
        "outputId": "5657d026-daac-42f0-9d99-4f743b9debc9"
      },
      "outputs": [
        {
          "name": "stdout",
          "output_type": "stream",
          "text": [
            "[1. 2.]\n",
            "[3. 4.]\n",
            "[5. 6.]\n"
          ]
        }
      ],
      "source": [
        "# простой перебор для многомерного случая срабаотает плохо, он перебирает по первой размерности\n",
        "a = np.array([[1, 2], [3, 4], [5, 6]], float)\n",
        "for x in a:\n",
        "   print(x)"
      ]
    },
    {
      "cell_type": "code",
      "execution_count": null,
      "metadata": {
        "colab": {
          "base_uri": "https://localhost:8080/"
        },
        "id": "-V4y9g8AmO-7",
        "outputId": "379958da-9b99-4a0a-a56c-116a4f03831e"
      },
      "outputs": [
        {
          "name": "stdout",
          "output_type": "stream",
          "text": [
            "1.0\n",
            "2.0\n",
            "3.0\n",
            "4.0\n",
            "5.0\n",
            "6.0\n"
          ]
        }
      ],
      "source": [
        "# перебор правильным способом\n",
        "for x in range(a.shape[0]):\n",
        "  for y in range(a.shape[1]):\n",
        "    print(a[x, y])"
      ]
    },
    {
      "cell_type": "markdown",
      "metadata": {
        "id": "XOFzhZRTm0sJ"
      },
      "source": [
        "## Операции над массивами"
      ]
    },
    {
      "cell_type": "markdown",
      "metadata": {
        "id": "r2uNeGpuirH0"
      },
      "source": [
        "### Математические операции над массивами\n",
        "\n",
        "С массивами можно применять стандартные математические операции. Они будут работать так, как будето происходит поэлементая работа одной и той же операции. Для матричных операций есть специальные команды.\n",
        "\n",
        "**Стандартные математические операции применимы только к массивам одинаковых размеров.**"
      ]
    },
    {
      "cell_type": "markdown",
      "metadata": {
        "id": "eG-bdq_WghUG"
      },
      "source": []
    },
    {
      "cell_type": "code",
      "execution_count": null,
      "metadata": {
        "colab": {
          "base_uri": "https://localhost:8080/"
        },
        "id": "K1hOsCfeiqJu",
        "outputId": "d3c8bf13-a5a9-405c-fa19-70031de28329"
      },
      "outputs": [
        {
          "name": "stdout",
          "output_type": "stream",
          "text": [
            "a:  [1 2 3 4 5 6]\n",
            "b:  [6 7 8]\n"
          ]
        }
      ],
      "source": [
        "a = np.arange(1, 7, 1, dtype=int)\n",
        "b = np.arange(6, 9, 1, dtype=int)\n",
        "print('a: ', a)\n",
        "print('b: ', b)"
      ]
    },
    {
      "cell_type": "code",
      "execution_count": null,
      "metadata": {
        "colab": {
          "base_uri": "https://localhost:8080/"
        },
        "id": "TpowhPPXjRkK",
        "outputId": "b3b3f01e-d9ae-4990-e702-a384da0e2f16"
      },
      "outputs": [
        {
          "data": {
            "text/plain": [
              "array([10, 12, 14])"
            ]
          },
          "execution_count": 20,
          "metadata": {},
          "output_type": "execute_result"
        }
      ],
      "source": [
        "a[3:] + b"
      ]
    },
    {
      "cell_type": "code",
      "execution_count": null,
      "metadata": {
        "colab": {
          "base_uri": "https://localhost:8080/"
        },
        "id": "vyVouUUsjS66",
        "outputId": "549d0a27-2468-4b03-aae5-fe269e9feffc"
      },
      "outputs": [
        {
          "data": {
            "text/plain": [
              "array([-2, -2, -2])"
            ]
          },
          "execution_count": 21,
          "metadata": {},
          "output_type": "execute_result"
        }
      ],
      "source": [
        "a[3:] - b"
      ]
    },
    {
      "cell_type": "code",
      "execution_count": null,
      "metadata": {
        "colab": {
          "base_uri": "https://localhost:8080/"
        },
        "id": "zB1ctuxdjWY6",
        "outputId": "ece5b05f-dd9c-4d7f-8781-73de9448a009"
      },
      "outputs": [
        {
          "data": {
            "text/plain": [
              "array([24, 35, 48])"
            ]
          },
          "execution_count": 22,
          "metadata": {},
          "output_type": "execute_result"
        }
      ],
      "source": [
        "a[3:] * b"
      ]
    },
    {
      "cell_type": "code",
      "execution_count": null,
      "metadata": {
        "id": "WzuaO_PPszTq"
      },
      "outputs": [],
      "source": []
    },
    {
      "cell_type": "code",
      "execution_count": null,
      "metadata": {
        "colab": {
          "base_uri": "https://localhost:8080/"
        },
        "id": "VfvB9qhPjXvr",
        "outputId": "bc70345c-afd1-4137-d12e-690a19f9237b"
      },
      "outputs": [
        {
          "data": {
            "text/plain": [
              "array([6.        , 3.5       , 2.66666667])"
            ]
          },
          "execution_count": 33,
          "metadata": {
            "tags": []
          },
          "output_type": "execute_result"
        }
      ],
      "source": [
        "b / a"
      ]
    },
    {
      "cell_type": "code",
      "execution_count": null,
      "metadata": {
        "colab": {
          "base_uri": "https://localhost:8080/"
        },
        "id": "gyn1iRjojZG_",
        "outputId": "ef9a85da-e834-436b-8b04-8de135ccb288"
      },
      "outputs": [
        {
          "data": {
            "text/plain": [
              "array([1, 2, 3])"
            ]
          },
          "execution_count": 34,
          "metadata": {
            "tags": []
          },
          "output_type": "execute_result"
        }
      ],
      "source": [
        "a % b"
      ]
    },
    {
      "cell_type": "code",
      "execution_count": null,
      "metadata": {
        "colab": {
          "base_uri": "https://localhost:8080/"
        },
        "id": "1sROVXt_jasJ",
        "outputId": "0d072e80-d9e2-4c09-fae4-1804aac97142"
      },
      "outputs": [
        {
          "data": {
            "text/plain": [
              "array([  6,  49, 512])"
            ]
          },
          "execution_count": 35,
          "metadata": {
            "tags": []
          },
          "output_type": "execute_result"
        }
      ],
      "source": [
        "b**a"
      ]
    },
    {
      "cell_type": "code",
      "execution_count": null,
      "metadata": {
        "colab": {
          "base_uri": "https://localhost:8080/"
        },
        "id": "N3wNkmy1jcX_",
        "outputId": "24f50852-c7d2-4a84-fb4f-68c320183ac3"
      },
      "outputs": [
        {
          "data": {
            "text/plain": [
              "array([0, 0, 0])"
            ]
          },
          "execution_count": 36,
          "metadata": {
            "tags": []
          },
          "output_type": "execute_result"
        }
      ],
      "source": [
        "a // b"
      ]
    },
    {
      "cell_type": "markdown",
      "metadata": {
        "id": "5C02Z_nOj7Vv"
      },
      "source": [
        "Кроме того, поэлементно могут быть применены другие математические операции"
      ]
    },
    {
      "cell_type": "code",
      "execution_count": null,
      "metadata": {
        "colab": {
          "base_uri": "https://localhost:8080/"
        },
        "id": "qD8eOzmpj6pi",
        "outputId": "e2a4ed22-8ee2-434f-d15e-530e780cf325"
      },
      "outputs": [
        {
          "data": {
            "text/plain": [
              "array([1.        , 1.41421356, 1.73205081])"
            ]
          },
          "execution_count": 37,
          "metadata": {
            "tags": []
          },
          "output_type": "execute_result"
        }
      ],
      "source": [
        "# корень\n",
        "np.sqrt(a)"
      ]
    },
    {
      "cell_type": "code",
      "execution_count": null,
      "metadata": {
        "id": "mcX6QHJpkE5J"
      },
      "outputs": [],
      "source": [
        "a = np.array([1.1, 1.5, 1.9], float)"
      ]
    },
    {
      "cell_type": "code",
      "execution_count": null,
      "metadata": {
        "colab": {
          "base_uri": "https://localhost:8080/"
        },
        "id": "AxZwfU8XkGLv",
        "outputId": "54516a65-eb0c-491f-91ec-a5bc701eb8ad"
      },
      "outputs": [
        {
          "data": {
            "text/plain": [
              "array([1., 1., 1.])"
            ]
          },
          "execution_count": 39,
          "metadata": {
            "tags": []
          },
          "output_type": "execute_result"
        }
      ],
      "source": [
        "# округление вниз\n",
        "np.floor(a)"
      ]
    },
    {
      "cell_type": "code",
      "execution_count": null,
      "metadata": {
        "colab": {
          "base_uri": "https://localhost:8080/"
        },
        "id": "0Jqw5BxKkHcS",
        "outputId": "e34b042a-a04d-4811-ba28-9863d8f0faa0"
      },
      "outputs": [
        {
          "data": {
            "text/plain": [
              "array([2., 2., 2.])"
            ]
          },
          "execution_count": 40,
          "metadata": {
            "tags": []
          },
          "output_type": "execute_result"
        }
      ],
      "source": [
        "# округление вврех\n",
        "np.ceil(a)"
      ]
    },
    {
      "cell_type": "code",
      "execution_count": null,
      "metadata": {
        "colab": {
          "base_uri": "https://localhost:8080/"
        },
        "id": "Hmf_VZnKkIxm",
        "outputId": "1ffd1a16-c0c1-4525-dc24-b524766cc2d2"
      },
      "outputs": [
        {
          "data": {
            "text/plain": [
              "array([1., 2., 2.])"
            ]
          },
          "execution_count": 41,
          "metadata": {
            "tags": []
          },
          "output_type": "execute_result"
        }
      ],
      "source": [
        "# округление по правилам математики\n",
        "np.rint(a)"
      ]
    },
    {
      "cell_type": "markdown",
      "metadata": {
        "id": "9RVxKPPzm48-"
      },
      "source": [
        "### Простые операции над массивами"
      ]
    },
    {
      "cell_type": "markdown",
      "metadata": {
        "id": "4kul0PInoCR9"
      },
      "source": [
        "#### Одномерные массивы"
      ]
    },
    {
      "cell_type": "code",
      "execution_count": null,
      "metadata": {
        "colab": {
          "base_uri": "https://localhost:8080/"
        },
        "id": "mq19j01pnN8G",
        "outputId": "21d9c1b7-819f-418d-a50f-8431638d8806"
      },
      "outputs": [
        {
          "name": "stdout",
          "output_type": "stream",
          "text": [
            "[1 2 3 4 5]\n",
            "Сумма:  15\n",
            "Перемножение:  120\n"
          ]
        }
      ],
      "source": [
        "a = np.arange(1, 6, 1)\n",
        "print(a)\n",
        "print('Сумма: ', a.sum())\n",
        "print('Перемножение: ', a.prod())"
      ]
    },
    {
      "cell_type": "code",
      "execution_count": null,
      "metadata": {
        "colab": {
          "base_uri": "https://localhost:8080/"
        },
        "id": "6Mr3ICs2nlLF",
        "outputId": "cf271f4d-8952-4573-940b-0156d184eb32"
      },
      "outputs": [
        {
          "data": {
            "text/plain": [
              "3.0"
            ]
          },
          "execution_count": 24,
          "metadata": {},
          "output_type": "execute_result"
        }
      ],
      "source": [
        "# среднее (математическое ожидание)\n",
        "a.mean()"
      ]
    },
    {
      "cell_type": "code",
      "execution_count": null,
      "metadata": {
        "colab": {
          "base_uri": "https://localhost:8080/"
        },
        "id": "2YYUh5JdnmaL",
        "outputId": "4ce8ad03-0ce1-47e5-eb88-33c8f49ee253"
      },
      "outputs": [
        {
          "data": {
            "text/plain": [
              "2.0"
            ]
          },
          "execution_count": 25,
          "metadata": {},
          "output_type": "execute_result"
        }
      ],
      "source": [
        "# дисперсия (смещенная - это будет важно в дальнейшем)\n",
        "a.var()"
      ]
    },
    {
      "cell_type": "code",
      "execution_count": null,
      "metadata": {
        "colab": {
          "base_uri": "https://localhost:8080/"
        },
        "id": "ahaWzOm0nnia",
        "outputId": "59b89166-59b2-42bc-ad9a-00da785264c2"
      },
      "outputs": [
        {
          "data": {
            "text/plain": [
              "1.4142135623730951"
            ]
          },
          "execution_count": 26,
          "metadata": {},
          "output_type": "execute_result"
        }
      ],
      "source": [
        "# стандартное отклонение (несмещенное - это тоже будет важно в дальнейшем)\n",
        "a.std()"
      ]
    },
    {
      "cell_type": "code",
      "execution_count": null,
      "metadata": {
        "colab": {
          "base_uri": "https://localhost:8080/"
        },
        "id": "b-bIkJ2Wn2x5",
        "outputId": "d780c94c-f801-4aed-c897-541417b8602f"
      },
      "outputs": [
        {
          "data": {
            "text/plain": [
              "1"
            ]
          },
          "execution_count": 59,
          "metadata": {
            "tags": []
          },
          "output_type": "execute_result"
        }
      ],
      "source": [
        "a.min()"
      ]
    },
    {
      "cell_type": "code",
      "execution_count": null,
      "metadata": {
        "colab": {
          "base_uri": "https://localhost:8080/"
        },
        "id": "0AxTdqczn4jx",
        "outputId": "c102568e-1bab-429f-ce67-4ff09341dbef"
      },
      "outputs": [
        {
          "data": {
            "text/plain": [
              "0"
            ]
          },
          "execution_count": 60,
          "metadata": {
            "tags": []
          },
          "output_type": "execute_result"
        }
      ],
      "source": [
        "a.argmin()"
      ]
    },
    {
      "cell_type": "code",
      "execution_count": null,
      "metadata": {
        "colab": {
          "base_uri": "https://localhost:8080/"
        },
        "id": "QIYU068WodfS",
        "outputId": "e9ea081f-d871-4105-a92b-50a87a1b51da"
      },
      "outputs": [
        {
          "data": {
            "text/plain": [
              "array([5., 2., 5., 0., 0., 5., 2., 5., 4.])"
            ]
          },
          "execution_count": 27,
          "metadata": {},
          "output_type": "execute_result"
        }
      ],
      "source": [
        "# clip позволяет \"отрезать\" значения сверху и снизу\n",
        "a = np.array([6, 2, 5, -1, 0, 6, 2, 5, 4], float)\n",
        "a.clip(0, 5)"
      ]
    },
    {
      "cell_type": "code",
      "execution_count": null,
      "metadata": {
        "colab": {
          "base_uri": "https://localhost:8080/"
        },
        "id": "U2LfpmtFoswk",
        "outputId": "f74b8b54-a7df-43ec-8c56-2dd831c0db4a"
      },
      "outputs": [
        {
          "data": {
            "text/plain": [
              "array([-1.,  0.,  2.,  4.,  5.,  6.])"
            ]
          },
          "execution_count": 66,
          "metadata": {
            "tags": []
          },
          "output_type": "execute_result"
        }
      ],
      "source": [
        "np.unique(a)"
      ]
    },
    {
      "cell_type": "markdown",
      "metadata": {
        "id": "44hny-booF_m"
      },
      "source": [
        "#### Многомерные массивы\n",
        "Для работы с многомерными массивами можно использовать параметр `axis`."
      ]
    },
    {
      "cell_type": "code",
      "execution_count": null,
      "metadata": {
        "colab": {
          "base_uri": "https://localhost:8080/"
        },
        "id": "JP1uT4h1oBCW",
        "outputId": "8e86856f-f21b-43de-c0b4-be8bfe1361a4"
      },
      "outputs": [
        {
          "name": "stdout",
          "output_type": "stream",
          "text": [
            "[[ 5  2]\n",
            " [ 4  1]\n",
            " [ 3 -1]]\n",
            "[4.         0.66666667]\n",
            "[3.5 2.5 1. ]\n"
          ]
        },
        {
          "data": {
            "text/plain": [
              "2.3333333333333335"
            ]
          },
          "execution_count": 28,
          "metadata": {},
          "output_type": "execute_result"
        }
      ],
      "source": [
        "a = np.array([[5, 2], [4, 1], [3, -1]])\n",
        "print(a)\n",
        "print(a.mean(axis=0))\n",
        "print(a.mean(axis=1))\n",
        "a.mean()"
      ]
    },
    {
      "cell_type": "markdown",
      "metadata": {
        "id": "I-CcWYy6gZmu"
      },
      "source": [
        "### Логические операции над массивами"
      ]
    },
    {
      "cell_type": "code",
      "execution_count": null,
      "metadata": {
        "colab": {
          "base_uri": "https://localhost:8080/"
        },
        "id": "z3bn4sbfg29f",
        "outputId": "3b4c7b31-2cd9-463a-841e-6bdf5e56f433"
      },
      "outputs": [
        {
          "name": "stdout",
          "output_type": "stream",
          "text": [
            "[ True False False] <class 'numpy.ndarray'>\n"
          ]
        }
      ],
      "source": [
        "a = np.array([1, 3, 0])\n",
        "b = np.array([0, 3, 2])\n",
        "\n",
        "print(a > b, type(a>b))"
      ]
    },
    {
      "cell_type": "code",
      "execution_count": null,
      "metadata": {
        "colab": {
          "base_uri": "https://localhost:8080/"
        },
        "id": "XzxjJtORhJu4",
        "outputId": "9ae97ee6-302a-4601-ed59-8b187b3a3d6b"
      },
      "outputs": [
        {
          "data": {
            "text/plain": [
              "array([False,  True, False])"
            ]
          },
          "execution_count": 30,
          "metadata": {},
          "output_type": "execute_result"
        }
      ],
      "source": [
        "c = a > 2\n",
        "c"
      ]
    },
    {
      "cell_type": "code",
      "execution_count": null,
      "metadata": {
        "colab": {
          "base_uri": "https://localhost:8080/"
        },
        "id": "Lsugeay6hR4P",
        "outputId": "a4759a92-777b-431c-cd4f-8ed2e3f46feb"
      },
      "outputs": [
        {
          "name": "stdout",
          "output_type": "stream",
          "text": [
            "True\n",
            "False\n"
          ]
        }
      ],
      "source": [
        "# проверяем, что хотя бы один элемент истинен\n",
        "print(any(c))\n",
        "# проверяем, что все элементы истинны\n",
        "print(all(c))"
      ]
    },
    {
      "cell_type": "markdown",
      "metadata": {
        "id": "sMnWDf0ehlKw"
      },
      "source": [
        "Если вы хотите провести сравнение логическим И или логическим ИЛИ, то необходимо воспользоваться специальнымыми методами:\n",
        "\n",
        "\n",
        "```\n",
        "np.logical_and(_, _)\n",
        "np.logical_or(_, _)\n",
        "np.logical_not(_)\n",
        "```\n",
        "\n"
      ]
    },
    {
      "cell_type": "code",
      "execution_count": null,
      "metadata": {
        "colab": {
          "base_uri": "https://localhost:8080/"
        },
        "id": "waHiE2F5huzL",
        "outputId": "2c4e7fd9-f63f-4b80-c56a-efe37145fba1"
      },
      "outputs": [
        {
          "data": {
            "text/plain": [
              "array([[False,  True],\n",
              "       [False,  True],\n",
              "       [False, False]])"
            ]
          },
          "execution_count": 33,
          "metadata": {},
          "output_type": "execute_result"
        }
      ],
      "source": [
        "(a < 3) * (a > 0)"
      ]
    },
    {
      "cell_type": "code",
      "execution_count": null,
      "metadata": {
        "colab": {
          "base_uri": "https://localhost:8080/"
        },
        "id": "osCxOg27hzeH",
        "outputId": "190cc1d9-164f-4d58-e921-4b33cd6e93ee"
      },
      "outputs": [
        {
          "data": {
            "text/plain": [
              "array([ True, False, False])"
            ]
          },
          "execution_count": 13,
          "metadata": {
            "tags": []
          },
          "output_type": "execute_result"
        }
      ],
      "source": [
        "np.logical_and(a > 0, a < 3)"
      ]
    },
    {
      "cell_type": "markdown",
      "metadata": {
        "id": "7cz4ZxqNiKwk"
      },
      "source": [
        "С помощью `np.where` можно создать массив на основании условий. \n",
        "Синтаксис:\n",
        "\n",
        "\n",
        "```\n",
        "where(boolarray, truearray, falsearray)\n",
        "```\n",
        "\n"
      ]
    },
    {
      "cell_type": "code",
      "execution_count": null,
      "metadata": {
        "colab": {
          "base_uri": "https://localhost:8080/"
        },
        "id": "buVWH0XEOaGw",
        "outputId": "b22b718c-55ea-447e-f31c-1bf812830ede"
      },
      "outputs": [
        {
          "data": {
            "text/plain": [
              "array([1, 3, 0])"
            ]
          },
          "execution_count": 36,
          "metadata": {},
          "output_type": "execute_result"
        }
      ],
      "source": [
        "a = np.array([1, 3, 0])\n",
        "a"
      ]
    },
    {
      "cell_type": "code",
      "execution_count": null,
      "metadata": {
        "colab": {
          "base_uri": "https://localhost:8080/"
        },
        "id": "lNuVgYU_iTt2",
        "outputId": "e5e2c8b6-5c56-4960-c52f-d07f3de8551b"
      },
      "outputs": [
        {
          "name": "stderr",
          "output_type": "stream",
          "text": [
            "<ipython-input-37-02e1e0c5bd2e>:1: RuntimeWarning: divide by zero encountered in true_divide\n",
            "  np.where(a != 0, 1 / a, a)\n"
          ]
        },
        {
          "data": {
            "text/plain": [
              "array([1.        , 0.33333333, 0.        ])"
            ]
          },
          "execution_count": 37,
          "metadata": {},
          "output_type": "execute_result"
        }
      ],
      "source": [
        "np.where(a != 0, 1 / a, a)"
      ]
    },
    {
      "cell_type": "markdown",
      "metadata": {
        "id": "iFFWAZjqjtm3"
      },
      "source": [
        "Можно проверять элементы массива на наличие NaN и бесконечностей."
      ]
    },
    {
      "cell_type": "code",
      "execution_count": null,
      "metadata": {
        "colab": {
          "base_uri": "https://localhost:8080/"
        },
        "id": "1ue7ilLfixGs",
        "outputId": "80fe1688-bafb-406e-f347-e86ec3c779a1"
      },
      "outputs": [
        {
          "data": {
            "text/plain": [
              "array([ 1., nan, inf])"
            ]
          },
          "execution_count": 38,
          "metadata": {},
          "output_type": "execute_result"
        }
      ],
      "source": [
        "a = np.array([1, np.NaN, np.Inf], float)\n",
        "a"
      ]
    },
    {
      "cell_type": "code",
      "execution_count": null,
      "metadata": {
        "colab": {
          "base_uri": "https://localhost:8080/"
        },
        "id": "f4m9oOQijaAA",
        "outputId": "5a3ae855-b9fe-4f69-9f2d-be49a65e1e09"
      },
      "outputs": [
        {
          "data": {
            "text/plain": [
              "array([False,  True, False])"
            ]
          },
          "execution_count": 39,
          "metadata": {},
          "output_type": "execute_result"
        }
      ],
      "source": [
        "np.isnan(a)"
      ]
    },
    {
      "cell_type": "code",
      "execution_count": null,
      "metadata": {
        "colab": {
          "base_uri": "https://localhost:8080/"
        },
        "id": "kzYOI003jdCT",
        "outputId": "e89a6de2-f6b4-48c4-fb9d-f715fb96e488"
      },
      "outputs": [
        {
          "data": {
            "text/plain": [
              "array([ True, False, False])"
            ]
          },
          "execution_count": 40,
          "metadata": {},
          "output_type": "execute_result"
        }
      ],
      "source": [
        "np.isfinite(a)"
      ]
    },
    {
      "cell_type": "markdown",
      "metadata": {
        "id": "8t6HiD0ckFk1"
      },
      "source": [
        "### Выбор элементов массива по условию\n",
        "\n",
        "Очень важной особенностью массивов является то, что элементы в них можно брать на основании других массивов. Это особенно полезно при реализации свёрточных нейронных сетей."
      ]
    },
    {
      "cell_type": "code",
      "execution_count": null,
      "metadata": {
        "colab": {
          "base_uri": "https://localhost:8080/"
        },
        "id": "ydOgfU9Oj4Cx",
        "outputId": "bcf0ee39-c607-4449-f966-7045c07df024"
      },
      "outputs": [
        {
          "data": {
            "text/plain": [
              "array([[ True, False],\n",
              "       [False,  True]])"
            ]
          },
          "execution_count": 21,
          "metadata": {
            "tags": []
          },
          "output_type": "execute_result"
        }
      ],
      "source": [
        "# это результат применения логической операции к многомерному массиву\n",
        "a = np.array([[6, 4], [5, 9]], float)\n",
        "a >= 6"
      ]
    },
    {
      "cell_type": "code",
      "execution_count": null,
      "metadata": {
        "colab": {
          "base_uri": "https://localhost:8080/"
        },
        "id": "CP9XFc23ksri",
        "outputId": "2cdbba25-064a-468b-b631-150741f59f11"
      },
      "outputs": [
        {
          "data": {
            "text/plain": [
              "array([6., 9.])"
            ]
          },
          "execution_count": 23,
          "metadata": {
            "tags": []
          },
          "output_type": "execute_result"
        }
      ],
      "source": [
        "# а это результат фильтрации элементов\n",
        "# обратите внимание, получился одномерный массив, содержащий только элементы, удовлетворяющие условию \n",
        "a[a >= 6]"
      ]
    },
    {
      "cell_type": "code",
      "execution_count": null,
      "metadata": {
        "colab": {
          "base_uri": "https://localhost:8080/"
        },
        "id": "SYnoVd85lNOi",
        "outputId": "3690be39-5e37-42e9-d528-d651fab80482"
      },
      "outputs": [
        {
          "data": {
            "text/plain": [
              "array([6.])"
            ]
          },
          "execution_count": 24,
          "metadata": {
            "tags": []
          },
          "output_type": "execute_result"
        }
      ],
      "source": [
        "a[np.logical_and(a > 5, a < 9)]"
      ]
    },
    {
      "cell_type": "markdown",
      "metadata": {
        "id": "RE6p2vyRlPnn"
      },
      "source": [
        "Обратите внимание, что если передать целочисленные значения, в качестве условий, то результат будет другой. Будут выбраные соответствующие элементы. "
      ]
    },
    {
      "cell_type": "code",
      "execution_count": null,
      "metadata": {
        "colab": {
          "base_uri": "https://localhost:8080/"
        },
        "id": "EiQhJ-OmlaW7",
        "outputId": "d9e7830b-4032-4210-d17f-96d705759777"
      },
      "outputs": [
        {
          "data": {
            "text/plain": [
              "array([2., 2., 4., 8., 6.])"
            ]
          },
          "execution_count": 42,
          "metadata": {},
          "output_type": "execute_result"
        }
      ],
      "source": [
        "a = np.array([2, 4, 6, 8], float)\n",
        "b = np.array([0, 0, 1, 3, 2], int)\n",
        "a[b]"
      ]
    },
    {
      "cell_type": "code",
      "execution_count": null,
      "metadata": {
        "colab": {
          "base_uri": "https://localhost:8080/"
        },
        "id": "9VzF3Achpgsw",
        "outputId": "f4c8f557-7846-4034-90fa-309f04eba92e"
      },
      "outputs": [
        {
          "data": {
            "text/plain": [
              "array([ 1.,  4., 16., 16.,  4.])"
            ]
          },
          "execution_count": 28,
          "metadata": {
            "tags": []
          },
          "output_type": "execute_result"
        }
      ],
      "source": [
        "# Для выбора значений из многомерных массивов необходимо передать массивы, которые определяют индексы по каждому из направлений. Они должны быть, естественно, целочисленными.\n",
        "a = np.array([[1, 4], [9, 16]], float)\n",
        "b = np.array([0, 0, 1, 1, 0], int)\n",
        "c = np.array([0, 1, 1, 1, 1], int)\n",
        "a[b,c]"
      ]
    },
    {
      "cell_type": "markdown",
      "metadata": {
        "id": "tcAPABuYp8s0"
      },
      "source": [
        "## Векторная и матричная математика с использованием numpy\n",
        "\n",
        "Векторная математика в numpy - это главная причина того, что numpy стал ключевым модулем Python среди всех представленных модулей. Векторные вычисления позволяют значительно ускорить обработку численной информации. \n",
        "\n",
        "Часто сравнивая Python c С++/C говорят том, что первый гораздо менее производителен. Но с учётом современных модулей верно следующее утверждение: хорошо написанная программа на Python будет производительнее, чем средняя программа на C/C++, хорошую программу на C/C++ написать крайне сложно. \n",
        "\n",
        "В дополнении к арифметически операциям мы рассмотрим некоторые векторные операции. Глубокое погружение в их суть требует значительных знаний математики, которые мы будем получать по мере необходимости. "
      ]
    },
    {
      "cell_type": "markdown",
      "metadata": {
        "id": "CmYD6oX1sU0Y"
      },
      "source": [
        "### Скалярное произведение\n",
        "\n",
        "Для двух векторов a и b одинаковой длины скалярное произведение считается по следующей формуле:\n",
        "\n",
        "$ a*b = \\sum_{i=0}^{len(a)}  a_i*b_i $"
      ]
    },
    {
      "cell_type": "code",
      "execution_count": null,
      "metadata": {
        "colab": {
          "base_uri": "https://localhost:8080/"
        },
        "id": "DxYXBsMdrEih",
        "outputId": "fa894550-7745-450b-edbc-67a50b82fc14"
      },
      "outputs": [
        {
          "data": {
            "text/plain": [
              "5.0"
            ]
          },
          "execution_count": 29,
          "metadata": {
            "tags": []
          },
          "output_type": "execute_result"
        }
      ],
      "source": [
        "# скалярное произвдение векторов, также операция свёртки в свёрточных нейронных сетях \n",
        "\n",
        "a = np.array([1, 2, 3], float)\n",
        "b = np.array([0, 1, 1], float)\n",
        "np.dot(a, b)"
      ]
    },
    {
      "cell_type": "markdown",
      "metadata": {
        "id": "pTodEGiqrogd"
      },
      "source": [
        "### Произведение матриц\n",
        "\n",
        "Произведение матриц - это особая математическая операция, которая не эквивалентна произведени соответствующих элементов матриц. О матричном произведении целесообразно говорить в рамках соответствующих разделов математики. Тем не менее, используя numpy легко получить матричное произведение."
      ]
    },
    {
      "cell_type": "code",
      "execution_count": null,
      "metadata": {
        "id": "U7Dk0saXse_3"
      },
      "outputs": [],
      "source": [
        "a = np.array([[0, 1], [2, 3]], float)\n",
        "b = np.array([2, 3], float)\n",
        "d = np.array([[1, 1, 1], [1, 1, 1], [1, 1, 1]], float)"
      ]
    },
    {
      "cell_type": "code",
      "execution_count": null,
      "metadata": {
        "colab": {
          "base_uri": "https://localhost:8080/"
        },
        "id": "2bfSYAVWs_-7",
        "outputId": "9781068d-88f7-41cf-d419-84a60775ee30"
      },
      "outputs": [
        {
          "data": {
            "text/plain": [
              "array([ 6., 11.])"
            ]
          },
          "execution_count": 39,
          "metadata": {},
          "output_type": "execute_result"
        }
      ],
      "source": [
        "np.dot(b, a)"
      ]
    },
    {
      "cell_type": "code",
      "execution_count": null,
      "metadata": {
        "colab": {
          "base_uri": "https://localhost:8080/"
        },
        "id": "yOxVqmgqtAjj",
        "outputId": "681697c6-4b3b-48e4-ba9e-776e7ca07701"
      },
      "outputs": [
        {
          "data": {
            "text/plain": [
              "array([ 3., 13.])"
            ]
          },
          "execution_count": 40,
          "metadata": {},
          "output_type": "execute_result"
        }
      ],
      "source": [
        "np.dot(a, b)"
      ]
    },
    {
      "cell_type": "code",
      "execution_count": null,
      "metadata": {
        "colab": {
          "base_uri": "https://localhost:8080/"
        },
        "id": "Ry1nah85vvzB",
        "outputId": "6789c916-fa81-45dc-8344-0ed6321a67e4"
      },
      "outputs": [
        {
          "data": {
            "text/plain": [
              "array([ 3., 13.])"
            ]
          },
          "execution_count": 41,
          "metadata": {},
          "output_type": "execute_result"
        }
      ],
      "source": [
        "a@b"
      ]
    },
    {
      "cell_type": "code",
      "execution_count": null,
      "metadata": {
        "colab": {
          "base_uri": "https://localhost:8080/",
          "height": 197
        },
        "id": "KdF8ZTYdtM6N",
        "outputId": "be469ce4-0dfd-457d-ad9f-0df8020e7420"
      },
      "outputs": [
        {
          "ename": "ValueError",
          "evalue": "ignored",
          "output_type": "error",
          "traceback": [
            "\u001b[0;31m---------------------------------------------------------------------------\u001b[0m",
            "\u001b[0;31mValueError\u001b[0m                                Traceback (most recent call last)",
            "\u001b[0;32m<ipython-input-37-76f98feef170>\u001b[0m in \u001b[0;36m<module>\u001b[0;34m()\u001b[0m\n\u001b[0;32m----> 1\u001b[0;31m \u001b[0mnp\u001b[0m\u001b[0;34m.\u001b[0m\u001b[0mdot\u001b[0m\u001b[0;34m(\u001b[0m\u001b[0mb\u001b[0m\u001b[0;34m,\u001b[0m \u001b[0md\u001b[0m\u001b[0;34m)\u001b[0m\u001b[0;34m\u001b[0m\u001b[0;34m\u001b[0m\u001b[0m\n\u001b[0m",
            "\u001b[0;32m<__array_function__ internals>\u001b[0m in \u001b[0;36mdot\u001b[0;34m(*args, **kwargs)\u001b[0m\n",
            "\u001b[0;31mValueError\u001b[0m: shapes (2,) and (3,3) not aligned: 2 (dim 0) != 3 (dim 0)"
          ]
        }
      ],
      "source": [
        "# следите за размерностью, иначе ничего не получится\n",
        "np.dot(b, d)"
      ]
    },
    {
      "cell_type": "markdown",
      "metadata": {
        "id": "HE0b3-mVtj5L"
      },
      "source": [
        "### Определитель матриц\n",
        "\n",
        "Многие математические операции, связанные с линейной алгеброй реализованы в модуле linalg внутри numpy. Мы не будем углулбляться в различные функциия модуля, рассмотрим для примера определитель. "
      ]
    },
    {
      "cell_type": "code",
      "execution_count": null,
      "metadata": {
        "colab": {
          "base_uri": "https://localhost:8080/"
        },
        "id": "_SeZ2fV6vaVV",
        "outputId": "d03958a9-5532-427c-8690-78af22f92fa9"
      },
      "outputs": [
        {
          "data": {
            "text/plain": [
              "-2.0"
            ]
          },
          "execution_count": 38,
          "metadata": {
            "tags": []
          },
          "output_type": "execute_result"
        }
      ],
      "source": [
        "np.linalg.det(a)"
      ]
    },
    {
      "cell_type": "markdown",
      "metadata": {
        "id": "Wexheqa8vyh7"
      },
      "source": [
        "# Дополнительный материал для желающих\n",
        "\n",
        "[Нескучный туториал по numpy](https://habr.com/ru/post/469355/)"
      ]
    },
    {
      "cell_type": "markdown",
      "metadata": {
        "id": "vTu7Ibz2CesK"
      },
      "source": [
        "# Задания"
      ]
    },
    {
      "cell_type": "code",
      "execution_count": 3,
      "metadata": {},
      "outputs": [
        {
          "name": "stdout",
          "output_type": "stream",
          "text": [
            "Requirement already satisfied: numpy in ./.venv/lib/python3.12/site-packages (2.3.2)\n"
          ]
        }
      ],
      "source": [
        "!pip install numpy\n",
        "import numpy as np"
      ]
    },
    {
      "cell_type": "markdown",
      "metadata": {
        "id": "EobX-nHRDeT5"
      },
      "source": [
        "**Задача 1.**\n",
        "\n",
        "Создать матрицу размером `10х10` с 0 внутри, и 1 на границах. Например для `3х3`.\n",
        "\n",
        "```\n",
        "1 1 1\n",
        "1 0 1\n",
        "1 1 1\n",
        "```\n",
        "Количество строк кода идеального решения: 2  \n",
        "Кроме print()"
      ]
    },
    {
      "cell_type": "code",
      "execution_count": 4,
      "metadata": {
        "id": "MGvbhlGHCiJR"
      },
      "outputs": [
        {
          "data": {
            "text/plain": [
              "array([[1., 1., 1., 1., 1., 1., 1., 1., 1., 1.],\n",
              "       [1., 0., 0., 0., 0., 0., 0., 0., 0., 1.],\n",
              "       [1., 0., 0., 0., 0., 0., 0., 0., 0., 1.],\n",
              "       [1., 0., 0., 0., 0., 0., 0., 0., 0., 1.],\n",
              "       [1., 0., 0., 0., 0., 0., 0., 0., 0., 1.],\n",
              "       [1., 0., 0., 0., 0., 0., 0., 0., 0., 1.],\n",
              "       [1., 0., 0., 0., 0., 0., 0., 0., 0., 1.],\n",
              "       [1., 0., 0., 0., 0., 0., 0., 0., 0., 1.],\n",
              "       [1., 0., 0., 0., 0., 0., 0., 0., 0., 1.],\n",
              "       [1., 1., 1., 1., 1., 1., 1., 1., 1., 1.]])"
            ]
          },
          "execution_count": 4,
          "metadata": {},
          "output_type": "execute_result"
        }
      ],
      "source": [
        "N = 10\n",
        "arr = np.ones((N, N))\n",
        "arr[1:-1, 1:-1] = np.zeros((N - 2, N - 2))\n",
        "arr"
      ]
    },
    {
      "cell_type": "markdown",
      "metadata": {
        "id": "vnY0gsMOD45W"
      },
      "source": [
        "**Задача 2.**\n",
        "\n",
        "Создать 5x5 матрицу с 1,2,3,4 над диагональю. Все остальные элементы - 0.\n",
        "\n",
        "Количество строк кода идеального решения: 1   \n",
        "Кроме print()"
      ]
    },
    {
      "cell_type": "code",
      "execution_count": 5,
      "metadata": {
        "id": "tnKHSJApEY4w"
      },
      "outputs": [
        {
          "data": {
            "text/plain": [
              "array([[0, 1, 0, 0, 0],\n",
              "       [0, 0, 2, 0, 0],\n",
              "       [0, 0, 0, 3, 0],\n",
              "       [0, 0, 0, 0, 4],\n",
              "       [0, 0, 0, 0, 0]])"
            ]
          },
          "execution_count": 5,
          "metadata": {},
          "output_type": "execute_result"
        }
      ],
      "source": [
        "N = 5\n",
        "arr = sum([i * np.eye(N, N, k=i) for i in range(N)]) # not correct\n",
        "\n",
        "# DeepSeek\n",
        "arr = np.diag([1, 2, 3, 4], k=1)\n",
        "arr"
      ]
    },
    {
      "cell_type": "markdown",
      "metadata": {
        "id": "CzAqzs7ClCSn"
      },
      "source": [
        "**Задача 3.**\n",
        "\n",
        "Дан массив, поменять знак у элементов, значения которых между 3 и 8."
      ]
    },
    {
      "cell_type": "code",
      "execution_count": 6,
      "metadata": {
        "id": "63Ki9lyulzec"
      },
      "outputs": [
        {
          "data": {
            "text/plain": [
              "array([ 0,  1,  2,  3, -4, -5, -6, -7,  8,  9])"
            ]
          },
          "execution_count": 6,
          "metadata": {},
          "output_type": "execute_result"
        }
      ],
      "source": [
        "arr = np.arange(10)\n",
        "mask = np.logical_and(arr > 3, arr < 8)\n",
        "arr[mask] = arr[mask] * -1\n",
        "arr"
      ]
    },
    {
      "cell_type": "markdown",
      "metadata": {
        "id": "MJJ33mtstr-a"
      },
      "source": [
        "**Задача 4.**\n",
        "\n",
        "Дан вектор [1, 2, 3, 4, 5], построить новый вектор с тремя нулями между каждым значением."
      ]
    },
    {
      "cell_type": "code",
      "execution_count": null,
      "metadata": {
        "id": "UZLtKFY80D6f"
      },
      "outputs": [
        {
          "data": {
            "text/plain": [
              "array([1., 0., 0., 0., 2., 0., 0., 0., 3., 0., 0., 0., 4., 0., 0., 0., 5.,\n",
              "       0., 0., 0.])"
            ]
          },
          "execution_count": 11,
          "metadata": {},
          "output_type": "execute_result"
        }
      ],
      "source": [
        "arr = np.array([1, 2, 3, 4, 5])\n",
        "new_arr = np.zeros((len(arr), 4))\n",
        "new_arr[:, 0] = arr\n",
        "new_arr = new_arr.flatten()\n",
        "new_arr\n",
        "\n",
        "# DeepSeek\n",
        "arr = np.array([1, 2, 3, 4, 5])\n",
        "n = len(arr)\n",
        "new_length = n + (n - 1) * 3  # Новая длина: 5 + 4*3 = 17\n",
        "new_arr = np.zeros(new_length, dtype=arr.dtype)\n",
        "indices = np.arange(0, new_length, 4)  # Позиции для исходных элементов: [0, 4, 8, 12, 16]\n",
        "new_arr[indices] = arr"
      ]
    },
    {
      "cell_type": "markdown",
      "metadata": {
        "id": "KU7g7UVs0EDr"
      },
      "source": [
        "**Задача 5.**\n",
        "\n",
        "Дана матрица MxN. Поменять 2 любые строки в матрице."
      ]
    },
    {
      "cell_type": "code",
      "execution_count": 15,
      "metadata": {},
      "outputs": [
        {
          "name": "stdout",
          "output_type": "stream",
          "text": [
            "[[0.33756548 0.8416234  0.65900179 0.96336925]\n",
            " [0.89636262 0.37089322 0.81960679 0.0229875 ]\n",
            " [0.66032474 0.10697565 0.74792793 0.06331826]]\n",
            "[[0.33756548 0.8416234  0.65900179 0.96336925]\n",
            " [0.66032474 0.10697565 0.74792793 0.06331826]\n",
            " [0.89636262 0.37089322 0.81960679 0.0229875 ]]\n",
            "Original matrix:\n",
            "[[0.85019311 0.80008117 0.1371704  0.43974491]\n",
            " [0.61261345 0.02608564 0.83301689 0.9754058 ]\n",
            " [0.78917185 0.21257405 0.52810401 0.48798882]]\n",
            "\n",
            "Matrix after swapping rows 1 and 2:\n",
            "[[0.85019311 0.80008117 0.1371704  0.43974491]\n",
            " [0.78917185 0.21257405 0.52810401 0.48798882]\n",
            " [0.61261345 0.02608564 0.83301689 0.9754058 ]]\n"
          ]
        }
      ],
      "source": [
        "M, N = 3, 4\n",
        "random_matrix = np.random.rand(M, N)\n",
        "print(random_matrix)\n",
        "random_matrix[1], random_matrix[2] = random_matrix[2].copy(), random_matrix[1].copy()\n",
        "print(random_matrix)\n",
        "\n",
        "#DeepSeek\n",
        "M, N = 3, 4\n",
        "random_matrix = np.random.rand(M, N)\n",
        "print(\"Original matrix:\")\n",
        "print(random_matrix)\n",
        "\n",
        "# Swap rows 1 and 2 using advanced indexing\n",
        "random_matrix[[1, 2]] = random_matrix[[2, 1]]\n",
        "\n",
        "print(\"\\nMatrix after swapping rows 1 and 2:\")\n",
        "print(random_matrix)"
      ]
    },
    {
      "cell_type": "markdown",
      "metadata": {
        "id": "Kiva3bYH0Z9S"
      },
      "source": [
        "**Задача 6.**\n",
        "\n",
        "Дан одномерный массив. Найти наиболее частое значение в массиве."
      ]
    },
    {
      "cell_type": "code",
      "execution_count": 40,
      "metadata": {
        "id": "Fmnb7-e70YdF"
      },
      "outputs": [
        {
          "data": {
            "text/plain": [
              "np.int64(0)"
            ]
          },
          "execution_count": 40,
          "metadata": {},
          "output_type": "execute_result"
        }
      ],
      "source": [
        "x = np.array([6, 2, 0, 3, 0, 0, 5, 7, 0])\n",
        "unique_elements, counts = np.unique(x, return_counts=True)\n",
        "unique_elements[counts.argmax()]"
      ]
    },
    {
      "cell_type": "markdown",
      "metadata": {
        "id": "CA6upOsg0vuY"
      },
      "source": [
        "**Задача 7.** \n",
        "\n",
        "Дан массив 16x16, посчитать сумму по блокам 4x4."
      ]
    },
    {
      "cell_type": "code",
      "execution_count": null,
      "metadata": {
        "id": "biNnN0Gb056o"
      },
      "outputs": [
        {
          "data": {
            "text/plain": [
              "array([[8.75750153, 7.08210443, 7.69186197, 7.70639097],\n",
              "       [9.64301185, 9.42072868, 6.04096486, 7.36495293],\n",
              "       [8.74431859, 8.10967049, 9.41108254, 7.19893363],\n",
              "       [8.11668531, 7.15012953, 8.66409661, 7.64984523]])"
            ]
          },
          "execution_count": 57,
          "metadata": {},
          "output_type": "execute_result"
        }
      ],
      "source": [
        "N = 16\n",
        "step = 4\n",
        "random_matrix = np.random.rand(N, N)\n",
        "new_matrix = np.zeros((N // step, N // step))\n",
        "for i in range(0, N, step):\n",
        "    for j in range(0, N, step):\n",
        "        new_matrix[i // 4, j // 4] = np.sum(random_matrix[i:i + step, j:j + step])\n",
        "\n",
        "new_matrix\n",
        "\n",
        "# ChatGPT\n",
        "import numpy as np\n",
        "\n",
        "N = 16\n",
        "step = 4\n",
        "random_matrix = np.random.rand(N, N)\n",
        "\n",
        "# reshape into (num_blocks_row, block_size, num_blocks_col, block_size)\n",
        "blocks = random_matrix.reshape(N//step, step, N//step, step)\n",
        "\n",
        "new_matrix = blocks.sum(axis=(1, 3))\n"
      ]
    },
    {
      "cell_type": "markdown",
      "metadata": {
        "id": "a5jYWrLl06BY"
      },
      "source": [
        "**Задача 8.**\n",
        "\n",
        "Дана матрица. Найти n наибольших значений в массиве. n вводится с клавиатуры."
      ]
    },
    {
      "cell_type": "code",
      "execution_count": 20,
      "metadata": {},
      "outputs": [
        {
          "name": "stdout",
          "output_type": "stream",
          "text": [
            "[0.98160043 0.98195562 0.99090575 0.99741675 0.99748943]\n",
            "[0.98160043 0.98195562 0.99090575 0.99741675 0.99748943]\n"
          ]
        }
      ],
      "source": [
        "N = 16\n",
        "n = 5\n",
        "random_matrix = np.random.rand(N, N)\n",
        "random_vector = random_matrix.flatten()\n",
        "random_vector.sort()\n",
        "print(random_vector[-n:])\n",
        "\n",
        "# Chat GPT\n",
        "top_n = np.partition(random_vector, -n)[-n:]\n",
        "print(top_n)"
      ]
    },
    {
      "cell_type": "markdown",
      "metadata": {
        "id": "UbB8AuQA1BY0"
      },
      "source": [
        "**Задача 9.**\n",
        "\n",
        "Дана 10x3 матрица, найти строки из неравных значений (например [2,2,3])."
      ]
    },
    {
      "cell_type": "code",
      "execution_count": 59,
      "metadata": {
        "id": "YOKf8gMB1JCS"
      },
      "outputs": [
        {
          "data": {
            "text/plain": [
              "array([[2, 2, 3]])"
            ]
          },
          "execution_count": 59,
          "metadata": {},
          "output_type": "execute_result"
        }
      ],
      "source": [
        "matrix = np.array([\n",
        "    [1, 2, 3],\n",
        "    [2, 2, 3],\n",
        "    [4, 5, 6]\n",
        "])\n",
        "\n",
        "\n",
        "matrix[(np.sum(matrix, axis=1) % 3) != 0]"
      ]
    },
    {
      "cell_type": "markdown",
      "metadata": {
        "id": "NOGrxa9o3WLZ"
      },
      "source": [
        "**Задача 10.**\n",
        "\n",
        "Вектор A содержит float числа как больше, так и меньше нуля.\n",
        "\n",
        "Округлите их до целых и результат запишите в переменную Z. Округление должно быть \"от нуля\", т.е.:\n",
        "\n",
        "- положительные числа округляем всегда вверх до целого\n",
        "- отрицательные числа округляем всегда вниз до целого\n",
        "- 0 остаётся 0\n"
      ]
    },
    {
      "cell_type": "code",
      "execution_count": null,
      "metadata": {
        "id": "x-RztsfF37Yt"
      },
      "outputs": [
        {
          "data": {
            "text/plain": [
              "array([[ 0.00000000e+000,  0.00000000e+000,  4.35495879e-315,\n",
              "         4.35495879e-315,  5.84135394e-317, -3.00000000e+000,\n",
              "         5.81078511e-317,  5.81459535e-317,  5.81078511e-317,\n",
              "         5.81078511e-317,  6.13754470e-310,  1.00000000e+000,\n",
              "         5.81606173e-317,  6.13754468e-310,  6.13754468e-310,\n",
              "         2.00000000e+000],\n",
              "       [-3.00000000e+000,  6.13756868e-310,  0.00000000e+000,\n",
              "         6.13756868e-310,  6.13754470e-310, -3.00000000e+000,\n",
              "         5.81570601e-317,  6.13754470e-310,  6.13754478e-310,\n",
              "         5.81556371e-317, -4.00000000e+000,  5.84135394e-317,\n",
              "         5.81565857e-317,  0.00000000e+000,  5.84135394e-317,\n",
              "         5.84135394e-317],\n",
              "       [-4.00000000e+000,  5.84135394e-317,  3.00000000e+000,\n",
              "         5.84135394e-317,  5.84135394e-317,  5.81568229e-317,\n",
              "         6.13756868e-310,  6.13754470e-310, -4.00000000e+000,\n",
              "         5.81558743e-317, -4.00000000e+000,  0.00000000e+000,\n",
              "         0.00000000e+000,  3.00000000e+000,  0.00000000e+000,\n",
              "         3.00000000e+000],\n",
              "       [-4.00000000e+000,  6.13756868e-310,  1.00000000e+000,\n",
              "        -5.00000000e+000,  6.13756868e-310,  2.00000000e+000,\n",
              "        -5.00000000e+000,  6.13754470e-310,  4.00000000e+000,\n",
              "         4.00000000e+000,  5.81069025e-317,  6.13754470e-310,\n",
              "         2.00000000e+000,  5.81606173e-317, -5.00000000e+000,\n",
              "         3.00000000e+000],\n",
              "       [ 6.13754470e-310, -5.00000000e+000,  5.81608545e-317,\n",
              "         6.13754468e-310,  6.13754468e-310,  6.13754468e-310,\n",
              "         5.81575344e-317,  5.81053215e-317,  4.00000000e+000,\n",
              "        -4.00000000e+000,  2.00000000e+000,  0.00000000e+000,\n",
              "         1.00000000e+000,  6.13746781e-310, -2.00000000e+000,\n",
              "         4.00000000e+000],\n",
              "       [ 1.00000000e+000,  5.81603802e-317,  6.13754468e-310,\n",
              "         6.13754468e-310,  2.00000000e+000,  5.81575344e-317,\n",
              "         5.81053215e-317,  2.00000000e+000,  5.81053215e-317,\n",
              "         6.13754470e-310,  2.00000000e+000,  4.00000000e+000,\n",
              "        -4.00000000e+000,  0.00000000e+000,  6.13754470e-310,\n",
              "         6.13756868e-310],\n",
              "       [-4.00000000e+000,  2.00000000e+000,  6.13756996e-310,\n",
              "         5.81556371e-317,  6.13754470e-310,  6.13754468e-310,\n",
              "        -3.00000000e+000,  6.13754468e-310, -1.00000000e+000,\n",
              "        -3.00000000e+000,  3.00000000e+000,  5.75807028e-317,\n",
              "         2.00000000e+000,  5.75807028e-317, -4.00000000e+000,\n",
              "        -1.00000000e+000],\n",
              "       [-5.00000000e+000,  6.13746781e-310,  2.00000000e+000,\n",
              "         6.13746781e-310,  5.75807028e-317,  5.81459535e-317,\n",
              "         6.13756868e-310, -1.00000000e+000, -1.00000000e+000,\n",
              "        -1.00000000e+000, -1.00000000e+000,  6.13756868e-310,\n",
              "         6.13754470e-310, -4.00000000e+000, -5.00000000e+000,\n",
              "         3.00000000e+000],\n",
              "       [ 5.64875925e-317,  6.13754470e-310,  6.13756868e-310,\n",
              "         0.00000000e+000,  6.13754470e-310, -3.00000000e+000,\n",
              "         5.81556371e-317,  6.13754470e-310,  4.00000000e+000,\n",
              "        -1.00000000e+000, -3.00000000e+000,  0.00000000e+000,\n",
              "        -3.00000000e+000,  6.13754470e-310, -3.00000000e+000,\n",
              "        -5.00000000e+000],\n",
              "       [ 3.00000000e+000, -2.00000000e+000,  5.75807028e-317,\n",
              "         6.13754470e-310, -1.00000000e+000, -4.00000000e+000,\n",
              "         3.00000000e+000, -1.00000000e+000, -5.00000000e+000,\n",
              "         4.00000000e+000,  6.13757048e-310,  0.00000000e+000,\n",
              "         3.00000000e+000,  1.01975149e-320,  2.00000000e+000,\n",
              "        -3.00000000e+000],\n",
              "       [ 4.33518865e-315,  1.00000000e+000,  2.14321575e-312,\n",
              "         4.00000000e+000,  4.00000000e+000,  1.00000000e+000,\n",
              "        -1.00000000e+000, -3.00000000e+000,  0.00000000e+000,\n",
              "         3.60739285e-313,  0.00000000e+000, -3.00000000e+000,\n",
              "         1.27319747e-313,  2.00000000e+000,  4.00000000e+000,\n",
              "         1.00000000e+000],\n",
              "       [-1.00000000e+000,  4.00000000e+000, -1.00000000e+000,\n",
              "        -4.00000000e+000, -4.00000000e+000, -2.00000000e+000,\n",
              "         4.00000000e+000,  8.39911598e-323,  4.00000000e+000,\n",
              "        -2.00000000e+000, -2.00000000e+000, -4.00000000e+000,\n",
              "         1.00000000e+000,  1.90979621e-312, -2.00000000e+000,\n",
              "        -3.00000000e+000],\n",
              "       [ 2.96439388e-323, -1.00000000e+000, -3.00000000e+000,\n",
              "                     nan,  2.00000000e+000, -4.00000000e+000,\n",
              "         4.00000000e+000,              nan, -2.00000000e+000,\n",
              "         1.00000000e+000, -3.00000000e+000,  0.00000000e+000,\n",
              "         0.00000000e+000,  0.00000000e+000, -4.00000000e+000,\n",
              "         2.00000000e+000],\n",
              "       [ 0.00000000e+000, -3.00000000e+000, -5.00000000e+000,\n",
              "         0.00000000e+000, -3.00000000e+000,  0.00000000e+000,\n",
              "         0.00000000e+000, -5.00000000e+000,  0.00000000e+000,\n",
              "         0.00000000e+000,  0.00000000e+000, -2.00000000e+000,\n",
              "         1.00000000e+000,  1.00000000e+000, -1.00000000e+000,\n",
              "         0.00000000e+000],\n",
              "       [-1.00000000e+000,  1.00000000e+000,  2.00000000e+000,\n",
              "        -2.00000000e+000,  3.00000000e+000,  0.00000000e+000,\n",
              "         4.00000000e+000,  0.00000000e+000, -1.00000000e+000,\n",
              "         3.00000000e+000,  0.00000000e+000, -5.00000000e+000,\n",
              "         3.00000000e+000, -2.00000000e+000, -1.00000000e+000,\n",
              "         4.00000000e+000],\n",
              "       [-5.00000000e+000,  1.00000000e+000,  3.00000000e+000,\n",
              "         0.00000000e+000, -1.00000000e+000, -2.00000000e+000,\n",
              "        -5.00000000e+000,  2.00000000e+000, -4.00000000e+000,\n",
              "        -3.00000000e+000, -3.00000000e+000, -2.00000000e+000,\n",
              "         0.00000000e+000, -1.00000000e+000, -2.00000000e+000,\n",
              "         0.00000000e+000]])"
            ]
          },
          "execution_count": 24,
          "metadata": {},
          "output_type": "execute_result"
        }
      ],
      "source": [
        "N = 16\n",
        "random_matrix = (np.random.rand(N, N) - 0.5) * 10\n",
        "mask_greater = random_matrix > 0\n",
        "mask_less = random_matrix < 0\n",
        "result = np.ceil(random_matrix, where=mask_greater)\n",
        "result = np.floor(result, where=mask_less)"
      ]
    },
    {
      "cell_type": "code",
      "execution_count": 26,
      "metadata": {},
      "outputs": [
        {
          "name": "stdout",
          "output_type": "stream",
          "text": [
            "[[-4.  2. -2.  3.  2. -1.  4.  2. -1.  3. -3. -3. -1. -2.  3.  2.]\n",
            " [ 4.  4.  5. -3. -1.  3.  5. -5. -3.  3. -4. -1.  4.  3.  4. -4.]\n",
            " [-1.  1.  5. -4. -4.  4.  3. -4. -4. -5. -4.  2.  5.  2.  1.  3.]\n",
            " [-1. -2.  3. -5.  5.  5.  2. -3.  2. -1. -3.  5.  5.  5. -1. -2.]\n",
            " [-4. -3.  1.  2.  1.  4.  2.  5.  4. -4.  2. -1. -5. -1. -4. -4.]\n",
            " [-5.  3. -4. -3. -1.  4.  1.  5.  4. -3.  3. -1. -5. -1. -5.  5.]\n",
            " [-3. -1. -2.  1. -2.  3.  4.  2.  2.  4. -1.  5. -4. -1. -2. -2.]\n",
            " [ 3.  3.  5. -4. -4. -1.  1. -5.  5. -2.  5. -5. -3. -5. -5.  4.]\n",
            " [-4. -4.  2.  5. -5. -3.  4.  2. -1.  4. -4.  4. -2.  4.  4.  1.]\n",
            " [-5.  2. -4.  5. -4.  1.  5. -5.  2.  5. -4.  4.  5.  4.  1. -5.]\n",
            " [-1. -4. -2. -4. -5.  3.  2. -2.  3. -5. -2.  2. -3. -4.  4.  5.]\n",
            " [-1.  1.  1.  3.  2. -5.  3. -1.  4.  1. -4.  2.  5. -4. -4.  1.]\n",
            " [-3.  2.  2. -4. -5. -2. -1. -3.  4. -5. -1.  5.  5. -1.  2.  4.]\n",
            " [ 1. -1. -3. -1. -2.  3. -1. -4. -4. -4. -4. -5. -2.  5. -1.  5.]\n",
            " [ 3.  5. -4.  3. -1. -4. -3. -2. -4.  3.  5. -3. -3.  5.  4.  4.]\n",
            " [ 5. -3. -3.  1. -1. -1.  2.  4. -1. -3. -4.  4.  5. -3. -4.  2.]]\n"
          ]
        }
      ],
      "source": [
        "#Chat gpt\n",
        "\n",
        "import numpy as np\n",
        "\n",
        "N = 16\n",
        "random_matrix = (np.random.rand(N, N) - 0.5) * 10\n",
        "\n",
        "Z = np.where(\n",
        "    random_matrix > 0, np.ceil(random_matrix),\n",
        "    np.where(random_matrix < 0, np.floor(random_matrix), 0)\n",
        ")\n",
        "\n",
        "print(Z)"
      ]
    },
    {
      "cell_type": "markdown",
      "metadata": {
        "id": "6V2Z2SNX37jT"
      },
      "source": [
        "**Задача 11.**\n",
        "\n",
        "Даны 2 вектора целых чисел A и B.\n",
        "\n",
        "Найдите числа, встречающиеся в обоих векторах и составьте их по возрастанию в вектор Z.\n",
        "\n",
        "*Если пересечений нет, то вектор Z будет пустым*."
      ]
    },
    {
      "cell_type": "code",
      "execution_count": 1,
      "metadata": {
        "id": "ThxIR2zN4PFr"
      },
      "outputs": [
        {
          "name": "stdout",
          "output_type": "stream",
          "text": [
            "[3 5 7]\n"
          ]
        }
      ],
      "source": [
        "# Chat GPT\n",
        "import numpy as np\n",
        "\n",
        "# Пример данных\n",
        "A = np.array([1, 3, 5, 7, 9, 3, 1])\n",
        "B = np.array([2, 3, 5, 7, 11, 3])\n",
        "\n",
        "# Пересечение (отсортированное и без повторов)\n",
        "Z = np.intersect1d(A, B)\n",
        "\n",
        "print(Z)"
      ]
    },
    {
      "cell_type": "markdown",
      "metadata": {
        "id": "GeUr4BbI433N"
      },
      "source": [
        "**Задача 12.**\n",
        "\n",
        "Дан вектр. Найти максимальный элемент в векторе среди элементов, перед которыми стоит нулевой. \n",
        "\n",
        "Например для:\n",
        "\n",
        "`x = np.array([6, 2, 0, 3, 0, 0, 5, 7, 0])`\n",
        "\n",
        "Ответ:\n",
        "5"
      ]
    },
    {
      "cell_type": "code",
      "execution_count": null,
      "metadata": {
        "id": "TVHVE4RB50Ti"
      },
      "outputs": [],
      "source": [
        "x = np.array([6, 2, 0, 3, 0, 0, 5, 7, 0])\n",
        "np.where(x[i])"
      ]
    },
    {
      "cell_type": "markdown",
      "metadata": {
        "id": "3w6cbF5m438U"
      },
      "source": [
        "**Задача 13.**\n",
        "\n",
        "Дана матрица 5х3. Посчитать длинну каждого вектора в матрице (строка) и найти самый длинный ветор и вывести его координаты и длинну.\n",
        "\n",
        "Как выглядит матрица:\n",
        "\n",
        "```   \n",
        "     | x | y | z |\n",
        "     | 1 | 2 | 3 |\n",
        "     | 3 | 4 | 1 |\n",
        "     | ...       |\n",
        "```"
      ]
    },
    {
      "cell_type": "code",
      "execution_count": 33,
      "metadata": {
        "id": "YSqlTlRC7mFB"
      },
      "outputs": [
        {
          "name": "stdout",
          "output_type": "stream",
          "text": [
            "[[1.74420078 2.72586272 1.33115471]\n",
            " [3.65868709 2.12942273 1.15205636]\n",
            " [3.11493206 0.72001153 2.32188692]\n",
            " [1.52644619 2.07153646 1.50772651]\n",
            " [0.7460379  0.98411508 4.18378114]]\n",
            "1 [3.65868709 2.12942273 1.15205636]\n",
            "Матрица векторов:\n",
            "     x       y       z\n",
            "[[0.92479867 2.20815728 3.94427991]\n",
            " [3.14280051 1.12144921 0.91329279]\n",
            " [2.3928991  0.53637991 3.1777923 ]\n",
            " [4.25552349 2.16376756 0.12541073]\n",
            " [3.08694366 4.98142545 4.87935621]]\n",
            "\n",
            "Длины векторов: [4.61395223 3.45961661 4.01397974 4.77567776 7.62574178]\n",
            "\n",
            "Самый длинный вектор (индекс 4):\n",
            "x = 3.0869, y = 4.9814, z = 4.8794\n",
            "Длина = 7.6257\n"
          ]
        }
      ],
      "source": [
        "M, N = 5, 3\n",
        "random_matrix = np.random.rand(M, N) * 5\n",
        "print(random_matrix)\n",
        "len_vector = np.sqrt((random_matrix ** 2).sum(axis=1))\n",
        "print(len_vector.argmax(), random_matrix[len_vector.argmax()])\n",
        "\n",
        "# DeepSeek\n",
        "# Создаем матрицу 5x3 со случайными значениями от 0 до 5\n",
        "matrix = np.random.uniform(0, 5, size=(5, 3))\n",
        "\n",
        "# Вычисляем длины векторов\n",
        "lengths = np.linalg.norm(matrix, axis=1)\n",
        "\n",
        "# Находим индекс самого длинного вектора\n",
        "max_index = np.argmax(lengths)\n",
        "\n",
        "# Извлекаем координаты самого длинного вектора и его длину\n",
        "longest_vector = matrix[max_index]\n",
        "longest_length = lengths[max_index]\n",
        "\n",
        "# Выводим результаты\n",
        "print(\"Матрица векторов:\")\n",
        "print(\"     x       y       z\")\n",
        "print(matrix)\n",
        "print(\"\\nДлины векторов:\", lengths)\n",
        "print(f\"\\nСамый длинный вектор (индекс {max_index}):\")\n",
        "print(f\"x = {longest_vector[0]:.4f}, y = {longest_vector[1]:.4f}, z = {longest_vector[2]:.4f}\")\n",
        "print(f\"Длина = {longest_length:.4f}\")"
      ]
    }
  ],
  "metadata": {
    "colab": {
      "provenance": []
    },
    "kernelspec": {
      "display_name": ".venv",
      "language": "python",
      "name": "python3"
    },
    "language_info": {
      "codemirror_mode": {
        "name": "ipython",
        "version": 3
      },
      "file_extension": ".py",
      "mimetype": "text/x-python",
      "name": "python",
      "nbconvert_exporter": "python",
      "pygments_lexer": "ipython3",
      "version": "3.12.3"
    }
  },
  "nbformat": 4,
  "nbformat_minor": 0
}
