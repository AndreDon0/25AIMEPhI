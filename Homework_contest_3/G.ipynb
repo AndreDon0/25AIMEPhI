{
 "cells": [
  {
   "cell_type": "code",
   "execution_count": null,
   "id": "80b5cf0e",
   "metadata": {},
   "outputs": [],
   "source": [
    "import numpy as np\n",
    "import pandas as pd"
   ]
  },
  {
   "cell_type": "code",
   "execution_count": null,
   "id": "005a1977",
   "metadata": {},
   "outputs": [],
   "source": [
    "x = pd.read_csv(\"input.csv\")"
   ]
  },
  {
   "cell_type": "code",
   "execution_count": null,
   "id": "0c7bfb70",
   "metadata": {},
   "outputs": [],
   "source": [
    "\n",
    "\n",
    "x_min, x_max = x.min(axis=0), x.max(axis=1)\n",
    "norm = (x - x_min) / (x_max - x_min)\n",
    "x_diff = x_max - x_min"
   ]
  },
  {
   "cell_type": "code",
   "execution_count": null,
   "id": "6f744917",
   "metadata": {},
   "outputs": [],
   "source": [
    "norm.to_csv('output.csv', float_format='%.2f', index=False)"
   ]
  }
 ],
 "metadata": {
  "language_info": {
   "name": "python"
  }
 },
 "nbformat": 4,
 "nbformat_minor": 5
}
