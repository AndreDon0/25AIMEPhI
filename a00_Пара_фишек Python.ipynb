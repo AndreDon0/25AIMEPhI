{
  "nbformat": 4,
  "nbformat_minor": 0,
  "metadata": {
    "colab": {
      "provenance": []
    },
    "kernelspec": {
      "name": "python3",
      "display_name": "Python 3"
    },
    "language_info": {
      "name": "python"
    }
  },
  "cells": [
    {
      "cell_type": "markdown",
      "source": [
        "### Перевод между система счисления"
      ],
      "metadata": {
        "id": "kjgC8V2q13NE"
      }
    },
    {
      "cell_type": "markdown",
      "source": [
        "Иногда числа необходимо переводить между различными системами счисления. Для перевода в десятичную систему успешно работает команда `int(number, base)`, где в качестве параметра `base` нужно указать систему счисления из которой осуществляется перевод. Обратный перевод сложнее, так как есть лишь несколько команд переводящих из десятичной в конкретную (двоичную, восмеричную, шестнадцатиричную) системы счисления `bin()`, `oct()` и `hex()`."
      ],
      "metadata": {
        "id": "Vf20NryUD6C4"
      }
    },
    {
      "cell_type": "code",
      "execution_count": null,
      "metadata": {
        "id": "mBGUIN4sD3Vj",
        "colab": {
          "base_uri": "https://localhost:8080/"
        },
        "outputId": "18e61547-30fc-4c0a-f49c-8e7ef312cd75"
      },
      "outputs": [
        {
          "output_type": "stream",
          "name": "stdout",
          "text": [
            "13\n"
          ]
        }
      ],
      "source": [
        "s = '1101'\n",
        "print(int(s, 2))"
      ]
    },
    {
      "cell_type": "code",
      "source": [
        "n = 123\n",
        "print(bin(n), oct(n), hex(n))"
      ],
      "metadata": {
        "colab": {
          "base_uri": "https://localhost:8080/"
        },
        "id": "jukWC6-S1vTB",
        "outputId": "f522c80d-e2c4-4cf5-83a6-7fd1231e5ab9"
      },
      "execution_count": null,
      "outputs": [
        {
          "output_type": "stream",
          "name": "stdout",
          "text": [
            "0b1111011 0o173 0x7b\n"
          ]
        }
      ]
    },
    {
      "cell_type": "markdown",
      "source": [
        "### Выравнивание при выводе на экран\n",
        "\n",
        "Существует просто инструмент для выравнивания строк, связанный с командой `f`. Разобраться, кажется, достаточно просто."
      ],
      "metadata": {
        "id": "_Ss_Is7p170W"
      }
    },
    {
      "cell_type": "code",
      "source": [
        "print(f\"{s:0>9}\")"
      ],
      "metadata": {
        "colab": {
          "base_uri": "https://localhost:8080/"
        },
        "id": "AJ494snW12pe",
        "outputId": "cb78c40b-e49c-48f1-f159-42b296b33cbb"
      },
      "execution_count": null,
      "outputs": [
        {
          "output_type": "stream",
          "name": "stdout",
          "text": [
            "000001101\n"
          ]
        }
      ]
    },
    {
      "cell_type": "code",
      "source": [
        "print(f\"{s:0<9}\")"
      ],
      "metadata": {
        "colab": {
          "base_uri": "https://localhost:8080/"
        },
        "id": "GnqhD2z32XZ1",
        "outputId": "1d80fada-d694-4931-9a3a-334806d651d2"
      },
      "execution_count": null,
      "outputs": [
        {
          "output_type": "stream",
          "name": "stdout",
          "text": [
            "110100000\n"
          ]
        }
      ]
    },
    {
      "cell_type": "code",
      "source": [
        "print(f\"{s:0^9}\")"
      ],
      "metadata": {
        "colab": {
          "base_uri": "https://localhost:8080/"
        },
        "id": "Nfu-G_WJ2aBt",
        "outputId": "f21ceabf-c8a0-4d29-d359-4f01e0065e15"
      },
      "execution_count": null,
      "outputs": [
        {
          "output_type": "stream",
          "name": "stdout",
          "text": [
            "001101000\n"
          ]
        }
      ]
    },
    {
      "cell_type": "markdown",
      "source": [
        "### Оператор моржа (Walrus operator) :=\n",
        "\n",
        "Небольшая оптимизация для повышение читаемсоти кода\n",
        "\n"
      ],
      "metadata": {
        "id": "sHUCwzYaZRR9"
      }
    },
    {
      "cell_type": "code",
      "source": [
        "m = 5"
      ],
      "metadata": {
        "id": "8xj--YFQZ6lr"
      },
      "execution_count": 15,
      "outputs": []
    },
    {
      "cell_type": "code",
      "source": [
        "def get_data():\n",
        "  global m\n",
        "  if m > 0:\n",
        "    m -= 1\n",
        "  return m"
      ],
      "metadata": {
        "id": "BmRbyiC4ZxWS"
      },
      "execution_count": 9,
      "outputs": []
    },
    {
      "cell_type": "code",
      "source": [
        "def process(data):\n",
        "  return data * 2"
      ],
      "metadata": {
        "id": "dkVBepBZaZ4n"
      },
      "execution_count": 10,
      "outputs": []
    },
    {
      "cell_type": "code",
      "source": [
        "# Вместо дублирования вызова функции\n",
        "data = get_data()\n",
        "while data:\n",
        "    print(process(data))\n",
        "    data = get_data()"
      ],
      "metadata": {
        "colab": {
          "base_uri": "https://localhost:8080/"
        },
        "id": "wM0fd4iQZhv2",
        "outputId": "bd60df66-d785-4033-9d2a-2115340eeb00"
      },
      "execution_count": 16,
      "outputs": [
        {
          "output_type": "stream",
          "name": "stdout",
          "text": [
            "8\n",
            "6\n",
            "4\n",
            "2\n"
          ]
        }
      ]
    },
    {
      "cell_type": "code",
      "source": [
        "m = 5"
      ],
      "metadata": {
        "id": "NI6eoGDpamSo"
      },
      "execution_count": 19,
      "outputs": []
    },
    {
      "cell_type": "code",
      "source": [
        "# С моржом\n",
        "while (data := get_data()):\n",
        "    print(process(data))"
      ],
      "metadata": {
        "colab": {
          "base_uri": "https://localhost:8080/"
        },
        "id": "ubfOTAMuaknC",
        "outputId": "94207719-ac40-4970-d205-2a4e345cea18"
      },
      "execution_count": 20,
      "outputs": [
        {
          "output_type": "stream",
          "name": "stdout",
          "text": [
            "8\n",
            "6\n",
            "4\n",
            "2\n"
          ]
        }
      ]
    },
    {
      "cell_type": "code",
      "source": [
        "# В генератор списков для оптимизации\n",
        "# Вместо двойного вызова expensive_func(x)\n",
        "result = [expensive_func(x) for x in data if expensive_func(x) > 0]\n",
        "\n",
        "# С моржом - вызов только один раз\n",
        "result = [y for x in data if (y := expensive_func(x)) > 0]"
      ],
      "metadata": {
        "id": "Kro_qUgHZw4C"
      },
      "execution_count": null,
      "outputs": []
    },
    {
      "cell_type": "markdown",
      "source": [
        "### Многоточие как символ перемен"
      ],
      "metadata": {
        "id": "4oVQS0jWa-TE"
      }
    },
    {
      "cell_type": "code",
      "source": [
        "def greet(name=\"Guest\", greeting=...):\n",
        "    if greeting is ...:\n",
        "        greeting = \"Hello\"\n",
        "    return f\"{greeting}, {name}!\"\n",
        "\n",
        "greet()"
      ],
      "metadata": {
        "colab": {
          "base_uri": "https://localhost:8080/",
          "height": 35
        },
        "id": "VR_RU6kxbAjp",
        "outputId": "5f59c0fe-8961-49dd-de3c-4df16b2107e4"
      },
      "execution_count": 22,
      "outputs": [
        {
          "output_type": "execute_result",
          "data": {
            "text/plain": [
              "'Hello, Guest!'"
            ],
            "application/vnd.google.colaboratory.intrinsic+json": {
              "type": "string"
            }
          },
          "metadata": {},
          "execution_count": 22
        }
      ]
    },
    {
      "cell_type": "markdown",
      "source": [
        "### Многоточик как заглушка"
      ],
      "metadata": {
        "id": "USvW37JKbQzt"
      }
    },
    {
      "cell_type": "code",
      "source": [
        "def future_function():\n",
        "    ..."
      ],
      "metadata": {
        "id": "2bkub0IcbQS5"
      },
      "execution_count": 23,
      "outputs": []
    },
    {
      "cell_type": "markdown",
      "source": [
        "### Else в цикле"
      ],
      "metadata": {
        "id": "F67k4LcHbY6c"
      }
    },
    {
      "cell_type": "code",
      "source": [
        "def is_prime(n):\n",
        "    for i in range(2, int(n**0.5) + 1):\n",
        "        if n % i == 0:\n",
        "            print(f\"{n} не является простым числом\")\n",
        "            break\n",
        "    else:\n",
        "        print(f\"{n} является простым числом\")\n",
        "        return True\n",
        "    return False"
      ],
      "metadata": {
        "id": "Oem6BprvbbjN"
      },
      "execution_count": 24,
      "outputs": []
    },
    {
      "cell_type": "code",
      "source": [
        "is_prime(5)"
      ],
      "metadata": {
        "colab": {
          "base_uri": "https://localhost:8080/"
        },
        "id": "0IFrH1IIbceP",
        "outputId": "d3ecaf50-2ffb-4baf-8797-418c71cde307"
      },
      "execution_count": 25,
      "outputs": [
        {
          "output_type": "stream",
          "name": "stdout",
          "text": [
            "5 является простым числом\n"
          ]
        },
        {
          "output_type": "execute_result",
          "data": {
            "text/plain": [
              "True"
            ]
          },
          "metadata": {},
          "execution_count": 25
        }
      ]
    },
    {
      "cell_type": "code",
      "source": [
        "is_prime(6)"
      ],
      "metadata": {
        "colab": {
          "base_uri": "https://localhost:8080/"
        },
        "id": "RTcguTi6bih5",
        "outputId": "148a47fd-3082-47ed-c15d-002cbc108df7"
      },
      "execution_count": 26,
      "outputs": [
        {
          "output_type": "stream",
          "name": "stdout",
          "text": [
            "6 не является простым числом\n"
          ]
        },
        {
          "output_type": "execute_result",
          "data": {
            "text/plain": [
              "False"
            ]
          },
          "metadata": {},
          "execution_count": 26
        }
      ]
    },
    {
      "cell_type": "markdown",
      "source": [
        "### Нижнее подчёркивание"
      ],
      "metadata": {
        "id": "URSFUMctbuoQ"
      }
    },
    {
      "cell_type": "code",
      "source": [
        "# Игнорирование значений при распаковке\n",
        "first, *_, last = [1, 2, 3, 4, 5, 6, 7]\n",
        "print(first, last)  # 1 7\n",
        "\n",
        "# Временная переменная в циклах\n",
        "for _ in range(1000000):\n",
        "    ...\n",
        "\n",
        "# Разделитель в числах для читаемости\n",
        "million = 1_000_000\n",
        "binary = 0b1010_0001\n",
        "hex_num = 0xFF_EC_DE_5E"
      ],
      "metadata": {
        "colab": {
          "base_uri": "https://localhost:8080/"
        },
        "id": "VgqoPOcJbxmG",
        "outputId": "09ec64cf-c453-40fe-dc74-84a1589548c4"
      },
      "execution_count": 28,
      "outputs": [
        {
          "output_type": "stream",
          "name": "stdout",
          "text": [
            "1 7\n"
          ]
        }
      ]
    },
    {
      "cell_type": "markdown",
      "source": [
        "#"
      ],
      "metadata": {
        "id": "Q8I5mK3PbYCZ"
      }
    }
  ]
}